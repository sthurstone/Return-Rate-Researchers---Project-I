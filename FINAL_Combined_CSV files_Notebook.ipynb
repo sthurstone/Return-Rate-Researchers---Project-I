{
 "cells": [
  {
   "cell_type": "code",
   "execution_count": 2,
   "id": "5c1f3476",
   "metadata": {},
   "outputs": [],
   "source": [
    "%matplotlib notebook\n",
    "%matplotlib inline"
   ]
  },
  {
   "cell_type": "code",
   "execution_count": 1,
   "id": "0921be2c",
   "metadata": {},
   "outputs": [],
   "source": [
    "# import dependencies\n",
    "import numpy as np\n",
    "import pandas as pd\n",
    "import matplotlib.pyplot as plt\n",
    "import scipy.stats as st\n",
    "import csv\n",
    "import random\n",
    "import requests\n",
    "import seaborn as sns"
   ]
  },
  {
   "cell_type": "code",
   "execution_count": 4,
   "id": "5747ae7f",
   "metadata": {
    "scrolled": true
   },
   "outputs": [
    {
     "data": {
      "text/html": [
       "<div>\n",
       "<style scoped>\n",
       "    .dataframe tbody tr th:only-of-type {\n",
       "        vertical-align: middle;\n",
       "    }\n",
       "\n",
       "    .dataframe tbody tr th {\n",
       "        vertical-align: top;\n",
       "    }\n",
       "\n",
       "    .dataframe thead th {\n",
       "        text-align: right;\n",
       "    }\n",
       "</style>\n",
       "<table border=\"1\" class=\"dataframe\">\n",
       "  <thead>\n",
       "    <tr style=\"text-align: right;\">\n",
       "      <th></th>\n",
       "      <th>Question</th>\n",
       "      <th>Segment Type</th>\n",
       "      <th>Segment Description</th>\n",
       "      <th>Answer</th>\n",
       "      <th>Count</th>\n",
       "      <th>Percentage</th>\n",
       "    </tr>\n",
       "  </thead>\n",
       "  <tbody>\n",
       "    <tr>\n",
       "      <th>0</th>\n",
       "      <td>What social platform has influenced your onlin...</td>\n",
       "      <td>Mobile</td>\n",
       "      <td>Global results</td>\n",
       "      <td>Facebook</td>\n",
       "      <td>548</td>\n",
       "      <td>0.205</td>\n",
       "    </tr>\n",
       "    <tr>\n",
       "      <th>1</th>\n",
       "      <td>What social platform has influenced your onlin...</td>\n",
       "      <td>Mobile</td>\n",
       "      <td>Global results</td>\n",
       "      <td>Instagram</td>\n",
       "      <td>916</td>\n",
       "      <td>0.342</td>\n",
       "    </tr>\n",
       "    <tr>\n",
       "      <th>2</th>\n",
       "      <td>What social platform has influenced your onlin...</td>\n",
       "      <td>Mobile</td>\n",
       "      <td>Global results</td>\n",
       "      <td>Snapchat</td>\n",
       "      <td>86</td>\n",
       "      <td>0.032</td>\n",
       "    </tr>\n",
       "    <tr>\n",
       "      <th>3</th>\n",
       "      <td>What social platform has influenced your onlin...</td>\n",
       "      <td>Mobile</td>\n",
       "      <td>Global results</td>\n",
       "      <td>Twitter</td>\n",
       "      <td>179</td>\n",
       "      <td>0.067</td>\n",
       "    </tr>\n",
       "    <tr>\n",
       "      <th>4</th>\n",
       "      <td>What social platform has influenced your onlin...</td>\n",
       "      <td>Mobile</td>\n",
       "      <td>Global results</td>\n",
       "      <td>None</td>\n",
       "      <td>947</td>\n",
       "      <td>0.354</td>\n",
       "    </tr>\n",
       "  </tbody>\n",
       "</table>\n",
       "</div>"
      ],
      "text/plain": [
       "                                            Question Segment Type  \\\n",
       "0  What social platform has influenced your onlin...       Mobile   \n",
       "1  What social platform has influenced your onlin...       Mobile   \n",
       "2  What social platform has influenced your onlin...       Mobile   \n",
       "3  What social platform has influenced your onlin...       Mobile   \n",
       "4  What social platform has influenced your onlin...       Mobile   \n",
       "\n",
       "  Segment Description     Answer  Count  Percentage  \n",
       "0      Global results   Facebook    548       0.205  \n",
       "1      Global results  Instagram    916       0.342  \n",
       "2      Global results   Snapchat     86       0.032  \n",
       "3      Global results    Twitter    179       0.067  \n",
       "4      Global results       None    947       0.354  "
      ]
     },
     "execution_count": 4,
     "metadata": {},
     "output_type": "execute_result"
    }
   ],
   "source": [
    "# Tran's graphs\n",
    "# csv to DataFrame\n",
    "initial_data = pd.read_csv('social-influence-on-shopping.csv')\n",
    "initial_data.head()"
   ]
  },
  {
   "cell_type": "code",
   "execution_count": 5,
   "id": "bb0d9f74",
   "metadata": {
    "scrolled": true
   },
   "outputs": [
    {
     "data": {
      "text/html": [
       "<div>\n",
       "<style scoped>\n",
       "    .dataframe tbody tr th:only-of-type {\n",
       "        vertical-align: middle;\n",
       "    }\n",
       "\n",
       "    .dataframe tbody tr th {\n",
       "        vertical-align: top;\n",
       "    }\n",
       "\n",
       "    .dataframe thead th {\n",
       "        text-align: right;\n",
       "    }\n",
       "</style>\n",
       "<table border=\"1\" class=\"dataframe\">\n",
       "  <thead>\n",
       "    <tr style=\"text-align: right;\">\n",
       "      <th></th>\n",
       "      <th>Segment Description</th>\n",
       "      <th>Answer</th>\n",
       "      <th>Count</th>\n",
       "      <th>Percentage</th>\n",
       "    </tr>\n",
       "  </thead>\n",
       "  <tbody>\n",
       "    <tr>\n",
       "      <th>0</th>\n",
       "      <td>Global results</td>\n",
       "      <td>Facebook</td>\n",
       "      <td>548</td>\n",
       "      <td>0.205</td>\n",
       "    </tr>\n",
       "    <tr>\n",
       "      <th>1</th>\n",
       "      <td>Global results</td>\n",
       "      <td>Instagram</td>\n",
       "      <td>916</td>\n",
       "      <td>0.342</td>\n",
       "    </tr>\n",
       "    <tr>\n",
       "      <th>2</th>\n",
       "      <td>Global results</td>\n",
       "      <td>Snapchat</td>\n",
       "      <td>86</td>\n",
       "      <td>0.032</td>\n",
       "    </tr>\n",
       "    <tr>\n",
       "      <th>3</th>\n",
       "      <td>Global results</td>\n",
       "      <td>Twitter</td>\n",
       "      <td>179</td>\n",
       "      <td>0.067</td>\n",
       "    </tr>\n",
       "    <tr>\n",
       "      <th>4</th>\n",
       "      <td>Global results</td>\n",
       "      <td>None</td>\n",
       "      <td>947</td>\n",
       "      <td>0.354</td>\n",
       "    </tr>\n",
       "  </tbody>\n",
       "</table>\n",
       "</div>"
      ],
      "text/plain": [
       "  Segment Description     Answer  Count  Percentage\n",
       "0      Global results   Facebook    548       0.205\n",
       "1      Global results  Instagram    916       0.342\n",
       "2      Global results   Snapchat     86       0.032\n",
       "3      Global results    Twitter    179       0.067\n",
       "4      Global results       None    947       0.354"
      ]
     },
     "execution_count": 5,
     "metadata": {},
     "output_type": "execute_result"
    }
   ],
   "source": [
    "# 'Question' is the same throughout, so let's drop it\n",
    "initial_data.drop(['Question'], axis=1, inplace=True)\n",
    "initial_data.drop(['Segment Type'], axis=1, inplace=True)\n",
    "initial_data.head()"
   ]
  },
  {
   "cell_type": "code",
   "execution_count": 6,
   "id": "29890dc3",
   "metadata": {
    "scrolled": true
   },
   "outputs": [
    {
     "data": {
      "text/plain": [
       "Segment Description\n",
       "Appalachian State University                       5\n",
       "Arbroath Academy                                   5\n",
       "Are you a? SVB team member                         5\n",
       "Are you a? Student Trekker                         5\n",
       "Are you single? No                                 5\n",
       "                                                  ..\n",
       "your zodiac sign? Pisces (Feb 19 - Mar 20)         5\n",
       "your zodiac sign? Sagittarius (Nov 22 - Dec 21)    5\n",
       "your zodiac sign? Scorpio (Oct 23 - Nov 21)        5\n",
       "your zodiac sign? Taurus (Apr 20 - May 20)         5\n",
       "your zodiac sign? Virgo (Aug 23 - Sep 22)          5\n",
       "Name: Segment Description, Length: 289, dtype: int64"
      ]
     },
     "execution_count": 6,
     "metadata": {},
     "output_type": "execute_result"
    }
   ],
   "source": [
    "categories = initial_data.groupby('Segment Description')\n",
    "count_categories = categories['Segment Description'].count()\n",
    "count_categories"
   ]
  },
  {
   "cell_type": "code",
   "execution_count": 7,
   "id": "3f94ef90",
   "metadata": {},
   "outputs": [
    {
     "data": {
      "text/html": [
       "<div>\n",
       "<style scoped>\n",
       "    .dataframe tbody tr th:only-of-type {\n",
       "        vertical-align: middle;\n",
       "    }\n",
       "\n",
       "    .dataframe tbody tr th {\n",
       "        vertical-align: top;\n",
       "    }\n",
       "\n",
       "    .dataframe thead th {\n",
       "        text-align: right;\n",
       "    }\n",
       "</style>\n",
       "<table border=\"1\" class=\"dataframe\">\n",
       "  <thead>\n",
       "    <tr style=\"text-align: right;\">\n",
       "      <th></th>\n",
       "      <th>Segment Description</th>\n",
       "      <th>Answer</th>\n",
       "      <th>Count</th>\n",
       "      <th>Percentage</th>\n",
       "    </tr>\n",
       "  </thead>\n",
       "  <tbody>\n",
       "    <tr>\n",
       "      <th>0</th>\n",
       "      <td>Global results</td>\n",
       "      <td>Facebook</td>\n",
       "      <td>548</td>\n",
       "      <td>0.205</td>\n",
       "    </tr>\n",
       "    <tr>\n",
       "      <th>1</th>\n",
       "      <td>Global results</td>\n",
       "      <td>Instagram</td>\n",
       "      <td>916</td>\n",
       "      <td>0.342</td>\n",
       "    </tr>\n",
       "    <tr>\n",
       "      <th>2</th>\n",
       "      <td>Global results</td>\n",
       "      <td>Snapchat</td>\n",
       "      <td>86</td>\n",
       "      <td>0.032</td>\n",
       "    </tr>\n",
       "    <tr>\n",
       "      <th>3</th>\n",
       "      <td>Global results</td>\n",
       "      <td>Twitter</td>\n",
       "      <td>179</td>\n",
       "      <td>0.067</td>\n",
       "    </tr>\n",
       "    <tr>\n",
       "      <th>4</th>\n",
       "      <td>Global results</td>\n",
       "      <td>None</td>\n",
       "      <td>947</td>\n",
       "      <td>0.354</td>\n",
       "    </tr>\n",
       "  </tbody>\n",
       "</table>\n",
       "</div>"
      ],
      "text/plain": [
       "  Segment Description     Answer  Count  Percentage\n",
       "0      Global results   Facebook    548       0.205\n",
       "1      Global results  Instagram    916       0.342\n",
       "2      Global results   Snapchat     86       0.032\n",
       "3      Global results    Twitter    179       0.067\n",
       "4      Global results       None    947       0.354"
      ]
     },
     "execution_count": 7,
     "metadata": {},
     "output_type": "execute_result"
    }
   ],
   "source": [
    "# overview\n",
    "overview_df = pd.DataFrame(initial_data.iloc[0:5, :])\n",
    "overview_df"
   ]
  },
  {
   "cell_type": "code",
   "execution_count": 8,
   "id": "562e6a9a",
   "metadata": {
    "scrolled": true
   },
   "outputs": [
    {
     "data": {
      "image/png": "[encoded data removed]",
      "text/plain": [
       "<Figure size 432x288 with 1 Axes>"
      ]
     },
     "metadata": {},
     "output_type": "display_data"
    }
   ],
   "source": [
    "# pie chart\n",
    "\n",
    "labels = overview_df['Answer']\n",
    "sizes = overview_df['Percentage']\n",
    "colors = [\"royalblue\", \"orange\", \"yellow\", \"deepskyblue\", \"seagreen\"]\n",
    "\n",
    "plt.pie(sizes, labels=labels, colors=colors, autopct=\"%1.1f%%\", shadow=True)\n",
    "plt.title(\"What social platform has influenced your online shopping the most?\")\n",
    "plt.show()"
   ]
  },
  {
   "cell_type": "code",
   "execution_count": 26,
   "id": "a27ec434",
   "metadata": {},
   "outputs": [
    {
     "data": {
      "text/plain": [
       "<Figure size 432x288 with 0 Axes>"
      ]
     },
     "metadata": {},
     "output_type": "display_data"
    }
   ],
   "source": [
    "# save pie\n",
    "plt.savefig(\"overview.png\")"
   ]
  },
  {
   "cell_type": "code",
   "execution_count": 9,
   "id": "a8c8c7da",
   "metadata": {},
   "outputs": [
    {
     "data": {
      "text/html": [
       "<div>\n",
       "<style scoped>\n",
       "    .dataframe tbody tr th:only-of-type {\n",
       "        vertical-align: middle;\n",
       "    }\n",
       "\n",
       "    .dataframe tbody tr th {\n",
       "        vertical-align: top;\n",
       "    }\n",
       "\n",
       "    .dataframe thead th {\n",
       "        text-align: right;\n",
       "    }\n",
       "</style>\n",
       "<table border=\"1\" class=\"dataframe\">\n",
       "  <thead>\n",
       "    <tr style=\"text-align: right;\">\n",
       "      <th></th>\n",
       "      <th>Segment Description_x</th>\n",
       "      <th>Answer</th>\n",
       "      <th>Count (Female Voters)</th>\n",
       "      <th>Segment Description_y</th>\n",
       "      <th>Count (Male Voters)</th>\n",
       "    </tr>\n",
       "  </thead>\n",
       "  <tbody>\n",
       "    <tr>\n",
       "      <th>0</th>\n",
       "      <td>Female voters</td>\n",
       "      <td>Facebook</td>\n",
       "      <td>222</td>\n",
       "      <td>Male voters</td>\n",
       "      <td>326</td>\n",
       "    </tr>\n",
       "    <tr>\n",
       "      <th>1</th>\n",
       "      <td>Female voters</td>\n",
       "      <td>Instagram</td>\n",
       "      <td>535</td>\n",
       "      <td>Male voters</td>\n",
       "      <td>380</td>\n",
       "    </tr>\n",
       "    <tr>\n",
       "      <th>2</th>\n",
       "      <td>Female voters</td>\n",
       "      <td>Snapchat</td>\n",
       "      <td>29</td>\n",
       "      <td>Male voters</td>\n",
       "      <td>56</td>\n",
       "    </tr>\n",
       "    <tr>\n",
       "      <th>3</th>\n",
       "      <td>Female voters</td>\n",
       "      <td>Twitter</td>\n",
       "      <td>57</td>\n",
       "      <td>Male voters</td>\n",
       "      <td>122</td>\n",
       "    </tr>\n",
       "    <tr>\n",
       "      <th>4</th>\n",
       "      <td>Female voters</td>\n",
       "      <td>None</td>\n",
       "      <td>271</td>\n",
       "      <td>Male voters</td>\n",
       "      <td>678</td>\n",
       "    </tr>\n",
       "  </tbody>\n",
       "</table>\n",
       "</div>"
      ],
      "text/plain": [
       "  Segment Description_x     Answer  Count (Female Voters)  \\\n",
       "0         Female voters   Facebook                    222   \n",
       "1         Female voters  Instagram                    535   \n",
       "2         Female voters   Snapchat                     29   \n",
       "3         Female voters    Twitter                     57   \n",
       "4         Female voters       None                    271   \n",
       "\n",
       "  Segment Description_y  Count (Male Voters)  \n",
       "0           Male voters                  326  \n",
       "1           Male voters                  380  \n",
       "2           Male voters                   56  \n",
       "3           Male voters                  122  \n",
       "4           Male voters                  678  "
      ]
     },
     "execution_count": 9,
     "metadata": {},
     "output_type": "execute_result"
    }
   ],
   "source": [
    "# by gender - f/m\n",
    "gender_f = pd.DataFrame(initial_data.iloc[10:15, :3])\n",
    "gender_m = pd.DataFrame(initial_data.iloc[15:20, :3])\n",
    "gender_merge = pd.merge(gender_f, gender_m, on=\"Answer\", how=\"outer\")\n",
    "gender_merge = gender_merge.rename(columns={\"Count_x\":\"Count (Female Voters)\", \"Count_y\":\"Count (Male Voters)\"})\n",
    "gender_merge"
   ]
  },
  {
   "cell_type": "code",
   "execution_count": 10,
   "id": "4e5eac51",
   "metadata": {
    "scrolled": false
   },
   "outputs": [
    {
     "data": {
      "image/png": "[encoded data removed]",
      "text/plain": [
       "<Figure size 432x288 with 1 Axes>"
      ]
     },
     "metadata": {
      "needs_background": "light"
     },
     "output_type": "display_data"
    }
   ],
   "source": [
    "# bar graph - multi plot, if possible\n",
    "multi_plot = gender_merge.plot(kind=\"bar\")\n",
    "multi_plot.set_xticklabels(gender_merge[\"Answer\"], rotation=45)\n",
    "plt.title(\"Social Media Influence on Online Shopping\")\n",
    "plt.xlabel(\"Social Platform by Gender\")\n",
    "plt.ylabel(\"Number of Votes\")\n",
    "plt.tight_layout()"
   ]
  },
  {
   "cell_type": "code",
   "execution_count": null,
   "id": "70c0c201",
   "metadata": {},
   "outputs": [],
   "source": [
    "# save figure\n",
    "plt.savefig(\"gender_bar2.png\")"
   ]
  },
  {
   "cell_type": "code",
   "execution_count": 11,
   "id": "faf7e547",
   "metadata": {},
   "outputs": [
    {
     "data": {
      "text/plain": [
       "[304, 451, 340, 134]"
      ]
     },
     "execution_count": 11,
     "metadata": {},
     "output_type": "execute_result"
    }
   ],
   "source": [
    "# income of parents\n",
    "upper_class = pd.DataFrame(initial_data.iloc[915:920, :3])\n",
    "upper_middle = pd.DataFrame(initial_data.iloc[920:925, :3])\n",
    "middle_class = pd.DataFrame(initial_data.iloc[925:930, :3])\n",
    "lower_class = pd.DataFrame(initial_data.iloc[930:935, :3])\n",
    "\n",
    "# getting counts\n",
    "upper_counts = upper_class['Count'].sum()\n",
    "upper_middle_counts = upper_middle['Count'].sum()\n",
    "middle_counts = middle_class['Count'].sum()\n",
    "lower_counts = lower_class['Count'].sum()\n",
    "\n",
    "income_summary = [upper_counts, upper_middle_counts, middle_counts, lower_counts]\n",
    "income_summary"
   ]
  },
  {
   "cell_type": "code",
   "execution_count": 12,
   "id": "0c9ea093",
   "metadata": {},
   "outputs": [
    {
     "data": {
      "image/png": "[encoded data removed]",
      "text/plain": [
       "<Figure size 432x288 with 1 Axes>"
      ]
     },
     "metadata": {},
     "output_type": "display_data"
    }
   ],
   "source": [
    "# pie chart\n",
    "labels = ['Upper Class', 'Upper-Middle Class', 'Middle/Lower-Middle Class', 'Lower Class']\n",
    "sizes = income_summary\n",
    "explode = [0, 0.1, 0, 0]\n",
    "\n",
    "plt.pie(sizes, explode=explode, labels=labels, autopct=\"%1.1f%%\", shadow=True, startangle=25)\n",
    "plt.title(\"Pollees by Household Income\")\n",
    "plt.show()"
   ]
  },
  {
   "cell_type": "code",
   "execution_count": 10,
   "id": "32b68910",
   "metadata": {},
   "outputs": [],
   "source": [
    "# save fig\n",
    "plt.savefig(\"incomes_pie.png\")"
   ]
  },
  {
   "cell_type": "code",
   "execution_count": 13,
   "id": "e0d39b53",
   "metadata": {},
   "outputs": [
    {
     "data": {
      "text/plain": [
       "[192, 94, 113, 1572, 105]"
      ]
     },
     "execution_count": 13,
     "metadata": {},
     "output_type": "execute_result"
    }
   ],
   "source": [
    "# ethnicities - individual\n",
    "ethnicity_asian = pd.DataFrame(initial_data.iloc[970:975, :3])\n",
    "ethnicity_black = pd.DataFrame(initial_data.iloc[1215:1220, :3])\n",
    "ethnicity_hispanic = pd.DataFrame(initial_data.iloc[1350: 1355, :3])\n",
    "ethnicity_white = pd.DataFrame(initial_data.iloc[1440:1445, :3])\n",
    "ethnicity_other = pd.DataFrame(initial_data.iloc[1170:1175, :3])\n",
    "ethnicity_native_american = pd.DataFrame(initial_data.iloc[1175:1180, :3])\n",
    "\n",
    "# collecting counts\n",
    "asian_sum = ethnicity_asian['Count'].sum()\n",
    "black_sum = ethnicity_black['Count'].sum()\n",
    "hispanic_sum = ethnicity_hispanic['Count'].sum()\n",
    "white_sum = ethnicity_white['Count'].sum() \n",
    "other_sum = ethnicity_other['Count'].sum() + ethnicity_native_american['Count'].sum()\n",
    "\n",
    "ethnicity_summary = [asian_sum, black_sum, hispanic_sum, white_sum, other_sum]\n",
    "ethnicity_summary"
   ]
  },
  {
   "cell_type": "code",
   "execution_count": 14,
   "id": "dfc17e93",
   "metadata": {},
   "outputs": [
    {
     "data": {
      "image/png": "[encoded data removed]",
      "text/plain": [
       "<Figure size 432x288 with 1 Axes>"
      ]
     },
     "metadata": {},
     "output_type": "display_data"
    }
   ],
   "source": [
    "# ethnicity pie chart\n",
    "labels = [\"Asian\", \"Black\", \"Hispanic\", \"White\", \"Other\"]\n",
    "sizes = ethnicity_summary\n",
    "explode = [0, 0, 0, 0.1, 0]\n",
    "\n",
    "plt.pie(sizes, explode=explode, labels=labels, autopct=\"%1.1f%%\", shadow=True, startangle=135)\n",
    "plt.title(\"Ethnicity of Pollees\")\n",
    "plt.show()"
   ]
  },
  {
   "cell_type": "code",
   "execution_count": null,
   "id": "6ba3b681",
   "metadata": {},
   "outputs": [],
   "source": [
    "# save figure\n",
    "plt.savefig(\"ethnicities_pie.png\")"
   ]
  },
  {
   "cell_type": "code",
   "execution_count": 15,
   "id": "f732e10a",
   "metadata": {},
   "outputs": [],
   "source": [
    "# Steph's graphs\n",
    "# Study data files\n",
    "Facebook_Ads = \"Facebook_Ads_2.csv\"\n",
    "Social_Network_Ads=\"Social_Network_Ads(1).csv\"\n",
    "\n",
    "# Read the csv data and the study results\n",
    "Facebook_Ads = pd.read_csv(Facebook_Ads)\n",
    "Facebook_Ads.rename(columns={'Salary':'Estimated Salary'}, inplace=True)\n",
    "\n",
    "Social_Network_Ads=pd.read_csv(Social_Network_Ads)\n",
    "\n",
    "Facebook_Ads.columns=['Names','Time_Spent_on_Site', 'Estimated_Salary', 'Clicked']\n",
    "\n",
    "Social_Network_Ads.columns=['User_ID','Gender', 'Age', 'Estimated_Salary', 'Purchased']"
   ]
  },
  {
   "cell_type": "code",
   "execution_count": 16,
   "id": "8f185828",
   "metadata": {},
   "outputs": [
    {
     "data": {
      "text/html": [
       "<div>\n",
       "<style scoped>\n",
       "    .dataframe tbody tr th:only-of-type {\n",
       "        vertical-align: middle;\n",
       "    }\n",
       "\n",
       "    .dataframe tbody tr th {\n",
       "        vertical-align: top;\n",
       "    }\n",
       "\n",
       "    .dataframe thead th {\n",
       "        text-align: right;\n",
       "    }\n",
       "</style>\n",
       "<table border=\"1\" class=\"dataframe\">\n",
       "  <thead>\n",
       "    <tr style=\"text-align: right;\">\n",
       "      <th></th>\n",
       "      <th>Names</th>\n",
       "      <th>Time_Spent_on_Site</th>\n",
       "      <th>Estimated_Salary</th>\n",
       "      <th>Clicked</th>\n",
       "    </tr>\n",
       "  </thead>\n",
       "  <tbody>\n",
       "    <tr>\n",
       "      <th>0</th>\n",
       "      <td>Martina Avila</td>\n",
       "      <td>25.649648</td>\n",
       "      <td>$55,330.06</td>\n",
       "      <td>0</td>\n",
       "    </tr>\n",
       "    <tr>\n",
       "      <th>1</th>\n",
       "      <td>Harlan Barnes</td>\n",
       "      <td>32.456107</td>\n",
       "      <td>$79,049.08</td>\n",
       "      <td>1</td>\n",
       "    </tr>\n",
       "    <tr>\n",
       "      <th>2</th>\n",
       "      <td>Naomi Rodriquez</td>\n",
       "      <td>20.945978</td>\n",
       "      <td>$41,098.61</td>\n",
       "      <td>0</td>\n",
       "    </tr>\n",
       "    <tr>\n",
       "      <th>3</th>\n",
       "      <td>Jade Cunningham</td>\n",
       "      <td>54.039325</td>\n",
       "      <td>$37,143.36</td>\n",
       "      <td>1</td>\n",
       "    </tr>\n",
       "    <tr>\n",
       "      <th>4</th>\n",
       "      <td>Cedric Leach</td>\n",
       "      <td>34.249729</td>\n",
       "      <td>$37,355.11</td>\n",
       "      <td>0</td>\n",
       "    </tr>\n",
       "    <tr>\n",
       "      <th>5</th>\n",
       "      <td>Carla Hester</td>\n",
       "      <td>52.009946</td>\n",
       "      <td>$80,642.65</td>\n",
       "      <td>1</td>\n",
       "    </tr>\n",
       "    <tr>\n",
       "      <th>6</th>\n",
       "      <td>Griffin Rivera</td>\n",
       "      <td>42.881370</td>\n",
       "      <td>$61,908.40</td>\n",
       "      <td>1</td>\n",
       "    </tr>\n",
       "    <tr>\n",
       "      <th>7</th>\n",
       "      <td>Orli Casey</td>\n",
       "      <td>25.676920</td>\n",
       "      <td>$29,851.41</td>\n",
       "      <td>0</td>\n",
       "    </tr>\n",
       "    <tr>\n",
       "      <th>8</th>\n",
       "      <td>Marny Obrien</td>\n",
       "      <td>40.698233</td>\n",
       "      <td>$34,281.12</td>\n",
       "      <td>1</td>\n",
       "    </tr>\n",
       "    <tr>\n",
       "      <th>9</th>\n",
       "      <td>Rhonda Chavez</td>\n",
       "      <td>29.687362</td>\n",
       "      <td>$41,098.88</td>\n",
       "      <td>0</td>\n",
       "    </tr>\n",
       "  </tbody>\n",
       "</table>\n",
       "</div>"
      ],
      "text/plain": [
       "             Names  Time_Spent_on_Site Estimated_Salary  Clicked\n",
       "0    Martina Avila           25.649648      $55,330.06         0\n",
       "1    Harlan Barnes           32.456107      $79,049.08         1\n",
       "2  Naomi Rodriquez           20.945978      $41,098.61         0\n",
       "3  Jade Cunningham           54.039325      $37,143.36         1\n",
       "4     Cedric Leach           34.249729      $37,355.11         0\n",
       "5     Carla Hester           52.009946      $80,642.65         1\n",
       "6   Griffin Rivera           42.881370      $61,908.40         1\n",
       "7       Orli Casey           25.676920      $29,851.41         0\n",
       "8     Marny Obrien           40.698233      $34,281.12         1\n",
       "9    Rhonda Chavez           29.687362      $41,098.88         0"
      ]
     },
     "execution_count": 16,
     "metadata": {},
     "output_type": "execute_result"
    }
   ],
   "source": [
    "Facebook_Ads.head(10)"
   ]
  },
  {
   "cell_type": "code",
   "execution_count": 17,
   "id": "b73b3dfb",
   "metadata": {},
   "outputs": [
    {
     "name": "stdout",
     "output_type": "stream",
     "text": [
      "<class 'pandas.core.frame.DataFrame'>\n",
      "RangeIndex: 499 entries, 0 to 498\n",
      "Data columns (total 4 columns):\n",
      " #   Column              Non-Null Count  Dtype  \n",
      "---  ------              --------------  -----  \n",
      " 0   Names               499 non-null    object \n",
      " 1   Time_Spent_on_Site  499 non-null    float64\n",
      " 2   Estimated_Salary    499 non-null    object \n",
      " 3   Clicked             499 non-null    int64  \n",
      "dtypes: float64(1), int64(1), object(2)\n",
      "memory usage: 15.7+ KB\n"
     ]
    }
   ],
   "source": [
    "Facebook_Ads.info()"
   ]
  },
  {
   "cell_type": "code",
   "execution_count": 18,
   "id": "af3800e2",
   "metadata": {},
   "outputs": [
    {
     "data": {
      "text/plain": [
       "Names                 499\n",
       "Time_Spent_on_Site    499\n",
       "Estimated_Salary      499\n",
       "Clicked               499\n",
       "dtype: int64"
      ]
     },
     "execution_count": 18,
     "metadata": {},
     "output_type": "execute_result"
    }
   ],
   "source": [
    "#count to confirm above\n",
    "Facebook_Ads.count()"
   ]
  },
  {
   "cell_type": "code",
   "execution_count": 19,
   "id": "1643b712",
   "metadata": {},
   "outputs": [],
   "source": [
    "##No missing/null values to drop"
   ]
  },
  {
   "cell_type": "code",
   "execution_count": 20,
   "id": "034106d4",
   "metadata": {},
   "outputs": [
    {
     "data": {
      "text/plain": [
       "499"
      ]
     },
     "execution_count": 20,
     "metadata": {},
     "output_type": "execute_result"
    }
   ],
   "source": [
    "#total clicks \n",
    "clicks=Facebook_Ads['Clicked'].count()\n",
    "clicks"
   ]
  },
  {
   "cell_type": "code",
   "execution_count": 21,
   "id": "708ea47d",
   "metadata": {},
   "outputs": [
    {
     "data": {
      "image/png": "[encoded data removed]",
      "text/plain": [
       "<Figure size 432x288 with 1 Axes>"
      ]
     },
     "metadata": {},
     "output_type": "display_data"
    },
    {
     "name": "stdout",
     "output_type": "stream",
     "text": [
      "Per each visit to Facebook, 50.1% visitors clicked on an ad while 49.9% did not click on an ad.\n"
     ]
    }
   ],
   "source": [
    "clicks = Facebook_Ads.Clicked.value_counts()\n",
    "clicks.plot(kind=\"pie\",autopct='%1.1f%%')\n",
    "plt.title(\"Facebook Ad Traffic\")\n",
    "plt.savefig(\"FB_Ad_Traffic_PIE\")\n",
    "plt.show()\n",
    "print(\"Per each visit to Facebook, 50.1% visitors clicked on an ad while 49.9% did not click on an ad.\")"
   ]
  },
  {
   "cell_type": "code",
   "execution_count": 22,
   "id": "356e4a88",
   "metadata": {},
   "outputs": [
    {
     "data": {
      "text/plain": [
       "32.920178330208415"
      ]
     },
     "execution_count": 22,
     "metadata": {},
     "output_type": "execute_result"
    }
   ],
   "source": [
    "# Average amount of time spent on site\n",
    "average_time_spent=(Facebook_Ads[\"Time_Spent_on_Site\"].mean())\n",
    "\n",
    "average_time_spent"
   ]
  },
  {
   "cell_type": "code",
   "execution_count": 23,
   "id": "eab40485",
   "metadata": {},
   "outputs": [
    {
     "data": {
      "text/html": [
       "<div>\n",
       "<style scoped>\n",
       "    .dataframe tbody tr th:only-of-type {\n",
       "        vertical-align: middle;\n",
       "    }\n",
       "\n",
       "    .dataframe tbody tr th {\n",
       "        vertical-align: top;\n",
       "    }\n",
       "\n",
       "    .dataframe thead th {\n",
       "        text-align: right;\n",
       "    }\n",
       "</style>\n",
       "<table border=\"1\" class=\"dataframe\">\n",
       "  <thead>\n",
       "    <tr style=\"text-align: right;\">\n",
       "      <th></th>\n",
       "      <th>0</th>\n",
       "      <th>1</th>\n",
       "    </tr>\n",
       "  </thead>\n",
       "  <tbody>\n",
       "    <tr>\n",
       "      <th>0</th>\n",
       "      <td>5.000000</td>\n",
       "      <td>492    Nolan\n",
       "Name: Names, dtype: object</td>\n",
       "    </tr>\n",
       "    <tr>\n",
       "      <th>1</th>\n",
       "      <td>7.521480</td>\n",
       "      <td>328    Sexton, Shaeleigh H.\n",
       "Name: Names, dtype...</td>\n",
       "    </tr>\n",
       "    <tr>\n",
       "      <th>2</th>\n",
       "      <td>7.764373</td>\n",
       "      <td>443    Aristotle\n",
       "Name: Names, dtype: object</td>\n",
       "    </tr>\n",
       "    <tr>\n",
       "      <th>3</th>\n",
       "      <td>10.508806</td>\n",
       "      <td>146    Allen Burke\n",
       "Name: Names, dtype: object</td>\n",
       "    </tr>\n",
       "    <tr>\n",
       "      <th>4</th>\n",
       "      <td>10.864857</td>\n",
       "      <td>191    Gannon Marquez\n",
       "Name: Names, dtype: object</td>\n",
       "    </tr>\n",
       "    <tr>\n",
       "      <th>5</th>\n",
       "      <td>11.451366</td>\n",
       "      <td>361    Beach, Victor S.\n",
       "Name: Names, dtype: ob...</td>\n",
       "    </tr>\n",
       "    <tr>\n",
       "      <th>6</th>\n",
       "      <td>11.863239</td>\n",
       "      <td>93    Yen Santana\n",
       "Name: Names, dtype: object</td>\n",
       "    </tr>\n",
       "    <tr>\n",
       "      <th>7</th>\n",
       "      <td>11.931267</td>\n",
       "      <td>298    Jelani A. Wall\n",
       "Name: Names, dtype: object</td>\n",
       "    </tr>\n",
       "    <tr>\n",
       "      <th>8</th>\n",
       "      <td>12.866031</td>\n",
       "      <td>98    Emerald Hamilton\n",
       "Name: Names, dtype: object</td>\n",
       "    </tr>\n",
       "    <tr>\n",
       "      <th>9</th>\n",
       "      <td>13.194055</td>\n",
       "      <td>435    Brady\n",
       "Name: Names, dtype: object</td>\n",
       "    </tr>\n",
       "    <tr>\n",
       "      <th>10</th>\n",
       "      <td>13.219206</td>\n",
       "      <td>306    Jimenez, Joel G.\n",
       "Name: Names, dtype: ob...</td>\n",
       "    </tr>\n",
       "    <tr>\n",
       "      <th>11</th>\n",
       "      <td>13.980853</td>\n",
       "      <td>316    Mcdowell, Victoria J.\n",
       "Name: Names, dtyp...</td>\n",
       "    </tr>\n",
       "    <tr>\n",
       "      <th>12</th>\n",
       "      <td>15.048346</td>\n",
       "      <td>456    Brandon\n",
       "Name: Names, dtype: object</td>\n",
       "    </tr>\n",
       "    <tr>\n",
       "      <th>13</th>\n",
       "      <td>15.557118</td>\n",
       "      <td>303    Chambers, Avram C.\n",
       "Name: Names, dtype: ...</td>\n",
       "    </tr>\n",
       "    <tr>\n",
       "      <th>14</th>\n",
       "      <td>15.619528</td>\n",
       "      <td>82    Abel Stanton\n",
       "Name: Names, dtype: object</td>\n",
       "    </tr>\n",
       "    <tr>\n",
       "      <th>15</th>\n",
       "      <td>15.649629</td>\n",
       "      <td>265    Piper S. Houston\n",
       "Name: Names, dtype: ob...</td>\n",
       "    </tr>\n",
       "    <tr>\n",
       "      <th>16</th>\n",
       "      <td>16.278541</td>\n",
       "      <td>248    Lana S. Pace\n",
       "Name: Names, dtype: object</td>\n",
       "    </tr>\n",
       "    <tr>\n",
       "      <th>17</th>\n",
       "      <td>16.297342</td>\n",
       "      <td>392    Hopper, Orson W.\n",
       "Name: Names, dtype: ob...</td>\n",
       "    </tr>\n",
       "    <tr>\n",
       "      <th>18</th>\n",
       "      <td>17.096967</td>\n",
       "      <td>366    Cote, Evangeline F.\n",
       "Name: Names, dtype:...</td>\n",
       "    </tr>\n",
       "    <tr>\n",
       "      <th>19</th>\n",
       "      <td>17.103576</td>\n",
       "      <td>20    Blythe Romero\n",
       "Name: Names, dtype: object</td>\n",
       "    </tr>\n",
       "  </tbody>\n",
       "</table>\n",
       "</div>"
      ],
      "text/plain": [
       "            0                                                  1\n",
       "0    5.000000            492    Nolan\n",
       "Name: Names, dtype: object\n",
       "1    7.521480  328    Sexton, Shaeleigh H.\n",
       "Name: Names, dtype...\n",
       "2    7.764373        443    Aristotle\n",
       "Name: Names, dtype: object\n",
       "3   10.508806      146    Allen Burke\n",
       "Name: Names, dtype: object\n",
       "4   10.864857   191    Gannon Marquez\n",
       "Name: Names, dtype: object\n",
       "5   11.451366  361    Beach, Victor S.\n",
       "Name: Names, dtype: ob...\n",
       "6   11.863239       93    Yen Santana\n",
       "Name: Names, dtype: object\n",
       "7   11.931267   298    Jelani A. Wall\n",
       "Name: Names, dtype: object\n",
       "8   12.866031  98    Emerald Hamilton\n",
       "Name: Names, dtype: object\n",
       "9   13.194055            435    Brady\n",
       "Name: Names, dtype: object\n",
       "10  13.219206  306    Jimenez, Joel G.\n",
       "Name: Names, dtype: ob...\n",
       "11  13.980853  316    Mcdowell, Victoria J.\n",
       "Name: Names, dtyp...\n",
       "12  15.048346          456    Brandon\n",
       "Name: Names, dtype: object\n",
       "13  15.557118  303    Chambers, Avram C.\n",
       "Name: Names, dtype: ...\n",
       "14  15.619528      82    Abel Stanton\n",
       "Name: Names, dtype: object\n",
       "15  15.649629  265    Piper S. Houston\n",
       "Name: Names, dtype: ob...\n",
       "16  16.278541     248    Lana S. Pace\n",
       "Name: Names, dtype: object\n",
       "17  16.297342  392    Hopper, Orson W.\n",
       "Name: Names, dtype: ob...\n",
       "18  17.096967  366    Cote, Evangeline F.\n",
       "Name: Names, dtype:...\n",
       "19  17.103576     20    Blythe Romero\n",
       "Name: Names, dtype: object"
      ]
     },
     "execution_count": 23,
     "metadata": {},
     "output_type": "execute_result"
    }
   ],
   "source": [
    "#chart time spent on site by participant in data file\n",
    "line_chart = Facebook_Ads.groupby('Time_Spent_on_Site')['Names']\n",
    "time_spent= pd.DataFrame(line_chart)\n",
    "time_spent.head(20)"
   ]
  },
  {
   "cell_type": "code",
   "execution_count": 24,
   "id": "edff48f9",
   "metadata": {},
   "outputs": [
    {
     "name": "stdout",
     "output_type": "stream",
     "text": [
      "The average amount of time spent on the site was 32.92 minutes.\n"
     ]
    },
    {
     "data": {
      "image/png": "[encoded data removed]",
      "text/plain": [
       "<Figure size 1080x1080 with 1 Axes>"
      ]
     },
     "metadata": {
      "needs_background": "light"
     },
     "output_type": "display_data"
    }
   ],
   "source": [
    "#set-up line chart to show length of time each participant in data group spent on site\n",
    "time_spent.plot(kind=\"line\", figsize=(15,15), color = \"b\", legend=True)\n",
    "plt.ylabel(\"Time Spent on Site (minutes)\")\n",
    "plt.xlabel(\"Participant by # (1-499 participants)\")\n",
    "plt.title(\"Time Spent on Site per Participant\")\n",
    "plt.savefig(\"Time Spent on Site per Participant- Line graph\")\n",
    "\n",
    "print(\"The average amount of time spent on the site was 32.92 minutes.\")"
   ]
  },
  {
   "cell_type": "code",
   "execution_count": 25,
   "id": "d21cb688",
   "metadata": {},
   "outputs": [
    {
     "data": {
      "text/html": [
       "<div>\n",
       "<style scoped>\n",
       "    .dataframe tbody tr th:only-of-type {\n",
       "        vertical-align: middle;\n",
       "    }\n",
       "\n",
       "    .dataframe tbody tr th {\n",
       "        vertical-align: top;\n",
       "    }\n",
       "\n",
       "    .dataframe thead th {\n",
       "        text-align: right;\n",
       "    }\n",
       "</style>\n",
       "<table border=\"1\" class=\"dataframe\">\n",
       "  <thead>\n",
       "    <tr style=\"text-align: right;\">\n",
       "      <th></th>\n",
       "      <th>User_ID</th>\n",
       "      <th>Gender</th>\n",
       "      <th>Age</th>\n",
       "      <th>Estimated_Salary</th>\n",
       "      <th>Purchased</th>\n",
       "    </tr>\n",
       "  </thead>\n",
       "  <tbody>\n",
       "    <tr>\n",
       "      <th>0</th>\n",
       "      <td>15624510</td>\n",
       "      <td>Male</td>\n",
       "      <td>19</td>\n",
       "      <td>$19,000.00</td>\n",
       "      <td>0</td>\n",
       "    </tr>\n",
       "    <tr>\n",
       "      <th>1</th>\n",
       "      <td>15810944</td>\n",
       "      <td>Male</td>\n",
       "      <td>35</td>\n",
       "      <td>$20,000.00</td>\n",
       "      <td>0</td>\n",
       "    </tr>\n",
       "    <tr>\n",
       "      <th>2</th>\n",
       "      <td>15668575</td>\n",
       "      <td>Female</td>\n",
       "      <td>26</td>\n",
       "      <td>$43,000.00</td>\n",
       "      <td>0</td>\n",
       "    </tr>\n",
       "    <tr>\n",
       "      <th>3</th>\n",
       "      <td>15603246</td>\n",
       "      <td>Female</td>\n",
       "      <td>27</td>\n",
       "      <td>$57,000.00</td>\n",
       "      <td>0</td>\n",
       "    </tr>\n",
       "    <tr>\n",
       "      <th>4</th>\n",
       "      <td>15804002</td>\n",
       "      <td>Male</td>\n",
       "      <td>19</td>\n",
       "      <td>$76,000.00</td>\n",
       "      <td>0</td>\n",
       "    </tr>\n",
       "    <tr>\n",
       "      <th>5</th>\n",
       "      <td>15728773</td>\n",
       "      <td>Male</td>\n",
       "      <td>27</td>\n",
       "      <td>$58,000.00</td>\n",
       "      <td>0</td>\n",
       "    </tr>\n",
       "    <tr>\n",
       "      <th>6</th>\n",
       "      <td>15598044</td>\n",
       "      <td>Female</td>\n",
       "      <td>27</td>\n",
       "      <td>$84,000.00</td>\n",
       "      <td>0</td>\n",
       "    </tr>\n",
       "    <tr>\n",
       "      <th>7</th>\n",
       "      <td>15694829</td>\n",
       "      <td>Female</td>\n",
       "      <td>32</td>\n",
       "      <td>$150,000.00</td>\n",
       "      <td>1</td>\n",
       "    </tr>\n",
       "    <tr>\n",
       "      <th>8</th>\n",
       "      <td>15600575</td>\n",
       "      <td>Male</td>\n",
       "      <td>25</td>\n",
       "      <td>$33,000.00</td>\n",
       "      <td>0</td>\n",
       "    </tr>\n",
       "    <tr>\n",
       "      <th>9</th>\n",
       "      <td>15727311</td>\n",
       "      <td>Female</td>\n",
       "      <td>35</td>\n",
       "      <td>$65,000.00</td>\n",
       "      <td>0</td>\n",
       "    </tr>\n",
       "  </tbody>\n",
       "</table>\n",
       "</div>"
      ],
      "text/plain": [
       "    User_ID  Gender  Age Estimated_Salary  Purchased\n",
       "0  15624510    Male   19      $19,000.00           0\n",
       "1  15810944    Male   35      $20,000.00           0\n",
       "2  15668575  Female   26      $43,000.00           0\n",
       "3  15603246  Female   27      $57,000.00           0\n",
       "4  15804002    Male   19      $76,000.00           0\n",
       "5  15728773    Male   27      $58,000.00           0\n",
       "6  15598044  Female   27      $84,000.00           0\n",
       "7  15694829  Female   32     $150,000.00           1\n",
       "8  15600575    Male   25      $33,000.00           0\n",
       "9  15727311  Female   35      $65,000.00           0"
      ]
     },
     "execution_count": 25,
     "metadata": {},
     "output_type": "execute_result"
    }
   ],
   "source": [
    "Social_Network_Ads.head(10)"
   ]
  },
  {
   "cell_type": "code",
   "execution_count": 26,
   "id": "25b74cbc",
   "metadata": {},
   "outputs": [
    {
     "name": "stdout",
     "output_type": "stream",
     "text": [
      "<class 'pandas.core.frame.DataFrame'>\n",
      "RangeIndex: 400 entries, 0 to 399\n",
      "Data columns (total 5 columns):\n",
      " #   Column            Non-Null Count  Dtype \n",
      "---  ------            --------------  ----- \n",
      " 0   User_ID           400 non-null    int64 \n",
      " 1   Gender            400 non-null    object\n",
      " 2   Age               400 non-null    int64 \n",
      " 3   Estimated_Salary  400 non-null    object\n",
      " 4   Purchased         400 non-null    int64 \n",
      "dtypes: int64(3), object(2)\n",
      "memory usage: 15.8+ KB\n"
     ]
    }
   ],
   "source": [
    "#check for irregularites/null \n",
    "Social_Network_Ads.info()"
   ]
  },
  {
   "cell_type": "code",
   "execution_count": 27,
   "id": "4379465a",
   "metadata": {},
   "outputs": [
    {
     "data": {
      "text/plain": [
       "User_ID             400\n",
       "Gender              400\n",
       "Age                 400\n",
       "Estimated_Salary    400\n",
       "Purchased           400\n",
       "dtype: int64"
      ]
     },
     "execution_count": 27,
     "metadata": {},
     "output_type": "execute_result"
    }
   ],
   "source": [
    "#count to confirm above\n",
    "Social_Network_Ads.count()"
   ]
  },
  {
   "cell_type": "code",
   "execution_count": 28,
   "id": "6fc96c7d",
   "metadata": {},
   "outputs": [],
   "source": [
    "##No missing/null values to drop"
   ]
  },
  {
   "cell_type": "code",
   "execution_count": 29,
   "id": "d09698a3",
   "metadata": {},
   "outputs": [
    {
     "data": {
      "text/plain": [
       "143"
      ]
     },
     "execution_count": 29,
     "metadata": {},
     "output_type": "execute_result"
    }
   ],
   "source": [
    "#how many purcahses total? \n",
    "purchases=Social_Network_Ads['Purchased'].sum()\n",
    "purchases"
   ]
  },
  {
   "cell_type": "code",
   "execution_count": 30,
   "id": "1b94d5e0",
   "metadata": {},
   "outputs": [
    {
     "data": {
      "text/plain": [
       "35    32\n",
       "37    20\n",
       "26    16\n",
       "41    16\n",
       "42    16\n",
       "39    15\n",
       "40    15\n",
       "48    14\n",
       "47    14\n",
       "27    13\n",
       "38    13\n",
       "28    12\n",
       "36    12\n",
       "46    12\n",
       "31    11\n",
       "30    11\n",
       "49    10\n",
       "29    10\n",
       "33     9\n",
       "32     9\n",
       "24     9\n",
       "59     7\n",
       "19     7\n",
       "45     7\n",
       "20     7\n",
       "60     7\n",
       "34     6\n",
       "23     6\n",
       "52     6\n",
       "25     6\n",
       "58     6\n",
       "53     5\n",
       "57     5\n",
       "22     5\n",
       "18     5\n",
       "21     4\n",
       "50     4\n",
       "54     4\n",
       "55     3\n",
       "56     3\n",
       "51     3\n",
       "43     3\n",
       "44     2\n",
       "Name: Age, dtype: int64"
      ]
     },
     "execution_count": 30,
     "metadata": {},
     "output_type": "execute_result"
    }
   ],
   "source": [
    "age_counts = Social_Network_Ads[\"Age\"].value_counts()\n",
    "age_counts"
   ]
  },
  {
   "cell_type": "code",
   "execution_count": 31,
   "id": "de37c150",
   "metadata": {},
   "outputs": [
    {
     "data": {
      "text/html": [
       "<div>\n",
       "<style scoped>\n",
       "    .dataframe tbody tr th:only-of-type {\n",
       "        vertical-align: middle;\n",
       "    }\n",
       "\n",
       "    .dataframe tbody tr th {\n",
       "        vertical-align: top;\n",
       "    }\n",
       "\n",
       "    .dataframe thead th {\n",
       "        text-align: right;\n",
       "    }\n",
       "</style>\n",
       "<table border=\"1\" class=\"dataframe\">\n",
       "  <thead>\n",
       "    <tr style=\"text-align: right;\">\n",
       "      <th></th>\n",
       "      <th>Age</th>\n",
       "    </tr>\n",
       "  </thead>\n",
       "  <tbody>\n",
       "    <tr>\n",
       "      <th>35</th>\n",
       "      <td>32</td>\n",
       "    </tr>\n",
       "    <tr>\n",
       "      <th>37</th>\n",
       "      <td>20</td>\n",
       "    </tr>\n",
       "    <tr>\n",
       "      <th>26</th>\n",
       "      <td>16</td>\n",
       "    </tr>\n",
       "    <tr>\n",
       "      <th>41</th>\n",
       "      <td>16</td>\n",
       "    </tr>\n",
       "    <tr>\n",
       "      <th>42</th>\n",
       "      <td>16</td>\n",
       "    </tr>\n",
       "  </tbody>\n",
       "</table>\n",
       "</div>"
      ],
      "text/plain": [
       "    Age\n",
       "35   32\n",
       "37   20\n",
       "26   16\n",
       "41   16\n",
       "42   16"
      ]
     },
     "execution_count": 31,
     "metadata": {},
     "output_type": "execute_result"
    }
   ],
   "source": [
    "# Convert the age_counts Series into a DataFrame\n",
    "age_counts_df = pd.DataFrame(age_counts)\n",
    "age_counts_df.head()"
   ]
  },
  {
   "cell_type": "code",
   "execution_count": 32,
   "id": "98b78d92",
   "metadata": {},
   "outputs": [
    {
     "data": {
      "text/html": [
       "<div>\n",
       "<style scoped>\n",
       "    .dataframe tbody tr th:only-of-type {\n",
       "        vertical-align: middle;\n",
       "    }\n",
       "\n",
       "    .dataframe tbody tr th {\n",
       "        vertical-align: top;\n",
       "    }\n",
       "\n",
       "    .dataframe thead th {\n",
       "        text-align: right;\n",
       "    }\n",
       "</style>\n",
       "<table border=\"1\" class=\"dataframe\">\n",
       "  <thead>\n",
       "    <tr style=\"text-align: right;\">\n",
       "      <th></th>\n",
       "      <th>Sum of Ages</th>\n",
       "    </tr>\n",
       "  </thead>\n",
       "  <tbody>\n",
       "    <tr>\n",
       "      <th>35</th>\n",
       "      <td>32</td>\n",
       "    </tr>\n",
       "    <tr>\n",
       "      <th>37</th>\n",
       "      <td>20</td>\n",
       "    </tr>\n",
       "    <tr>\n",
       "      <th>26</th>\n",
       "      <td>16</td>\n",
       "    </tr>\n",
       "    <tr>\n",
       "      <th>41</th>\n",
       "      <td>16</td>\n",
       "    </tr>\n",
       "    <tr>\n",
       "      <th>42</th>\n",
       "      <td>16</td>\n",
       "    </tr>\n",
       "    <tr>\n",
       "      <th>39</th>\n",
       "      <td>15</td>\n",
       "    </tr>\n",
       "    <tr>\n",
       "      <th>40</th>\n",
       "      <td>15</td>\n",
       "    </tr>\n",
       "    <tr>\n",
       "      <th>48</th>\n",
       "      <td>14</td>\n",
       "    </tr>\n",
       "    <tr>\n",
       "      <th>47</th>\n",
       "      <td>14</td>\n",
       "    </tr>\n",
       "    <tr>\n",
       "      <th>27</th>\n",
       "      <td>13</td>\n",
       "    </tr>\n",
       "    <tr>\n",
       "      <th>38</th>\n",
       "      <td>13</td>\n",
       "    </tr>\n",
       "    <tr>\n",
       "      <th>28</th>\n",
       "      <td>12</td>\n",
       "    </tr>\n",
       "    <tr>\n",
       "      <th>36</th>\n",
       "      <td>12</td>\n",
       "    </tr>\n",
       "    <tr>\n",
       "      <th>46</th>\n",
       "      <td>12</td>\n",
       "    </tr>\n",
       "    <tr>\n",
       "      <th>31</th>\n",
       "      <td>11</td>\n",
       "    </tr>\n",
       "    <tr>\n",
       "      <th>30</th>\n",
       "      <td>11</td>\n",
       "    </tr>\n",
       "    <tr>\n",
       "      <th>49</th>\n",
       "      <td>10</td>\n",
       "    </tr>\n",
       "    <tr>\n",
       "      <th>29</th>\n",
       "      <td>10</td>\n",
       "    </tr>\n",
       "    <tr>\n",
       "      <th>33</th>\n",
       "      <td>9</td>\n",
       "    </tr>\n",
       "    <tr>\n",
       "      <th>32</th>\n",
       "      <td>9</td>\n",
       "    </tr>\n",
       "    <tr>\n",
       "      <th>24</th>\n",
       "      <td>9</td>\n",
       "    </tr>\n",
       "    <tr>\n",
       "      <th>59</th>\n",
       "      <td>7</td>\n",
       "    </tr>\n",
       "    <tr>\n",
       "      <th>19</th>\n",
       "      <td>7</td>\n",
       "    </tr>\n",
       "    <tr>\n",
       "      <th>45</th>\n",
       "      <td>7</td>\n",
       "    </tr>\n",
       "    <tr>\n",
       "      <th>20</th>\n",
       "      <td>7</td>\n",
       "    </tr>\n",
       "    <tr>\n",
       "      <th>60</th>\n",
       "      <td>7</td>\n",
       "    </tr>\n",
       "    <tr>\n",
       "      <th>34</th>\n",
       "      <td>6</td>\n",
       "    </tr>\n",
       "    <tr>\n",
       "      <th>23</th>\n",
       "      <td>6</td>\n",
       "    </tr>\n",
       "    <tr>\n",
       "      <th>52</th>\n",
       "      <td>6</td>\n",
       "    </tr>\n",
       "    <tr>\n",
       "      <th>25</th>\n",
       "      <td>6</td>\n",
       "    </tr>\n",
       "    <tr>\n",
       "      <th>58</th>\n",
       "      <td>6</td>\n",
       "    </tr>\n",
       "    <tr>\n",
       "      <th>53</th>\n",
       "      <td>5</td>\n",
       "    </tr>\n",
       "    <tr>\n",
       "      <th>57</th>\n",
       "      <td>5</td>\n",
       "    </tr>\n",
       "    <tr>\n",
       "      <th>22</th>\n",
       "      <td>5</td>\n",
       "    </tr>\n",
       "    <tr>\n",
       "      <th>18</th>\n",
       "      <td>5</td>\n",
       "    </tr>\n",
       "    <tr>\n",
       "      <th>21</th>\n",
       "      <td>4</td>\n",
       "    </tr>\n",
       "    <tr>\n",
       "      <th>50</th>\n",
       "      <td>4</td>\n",
       "    </tr>\n",
       "    <tr>\n",
       "      <th>54</th>\n",
       "      <td>4</td>\n",
       "    </tr>\n",
       "    <tr>\n",
       "      <th>55</th>\n",
       "      <td>3</td>\n",
       "    </tr>\n",
       "    <tr>\n",
       "      <th>56</th>\n",
       "      <td>3</td>\n",
       "    </tr>\n",
       "    <tr>\n",
       "      <th>51</th>\n",
       "      <td>3</td>\n",
       "    </tr>\n",
       "    <tr>\n",
       "      <th>43</th>\n",
       "      <td>3</td>\n",
       "    </tr>\n",
       "    <tr>\n",
       "      <th>44</th>\n",
       "      <td>2</td>\n",
       "    </tr>\n",
       "  </tbody>\n",
       "</table>\n",
       "</div>"
      ],
      "text/plain": [
       "    Sum of Ages\n",
       "35           32\n",
       "37           20\n",
       "26           16\n",
       "41           16\n",
       "42           16\n",
       "39           15\n",
       "40           15\n",
       "48           14\n",
       "47           14\n",
       "27           13\n",
       "38           13\n",
       "28           12\n",
       "36           12\n",
       "46           12\n",
       "31           11\n",
       "30           11\n",
       "49           10\n",
       "29           10\n",
       "33            9\n",
       "32            9\n",
       "24            9\n",
       "59            7\n",
       "19            7\n",
       "45            7\n",
       "20            7\n",
       "60            7\n",
       "34            6\n",
       "23            6\n",
       "52            6\n",
       "25            6\n",
       "58            6\n",
       "53            5\n",
       "57            5\n",
       "22            5\n",
       "18            5\n",
       "21            4\n",
       "50            4\n",
       "54            4\n",
       "55            3\n",
       "56            3\n",
       "51            3\n",
       "43            3\n",
       "44            2"
      ]
     },
     "execution_count": 32,
     "metadata": {},
     "output_type": "execute_result"
    }
   ],
   "source": [
    "# Convert the column name into \"Sum of ages\"\n",
    "age_counts_df = age_counts_df.rename(\n",
    "    columns={\"Age\": \"Sum of Ages\"})\n",
    "age_counts_df"
   ]
  },
  {
   "cell_type": "code",
   "execution_count": 33,
   "id": "605ec335",
   "metadata": {},
   "outputs": [
    {
     "name": "stdout",
     "output_type": "stream",
     "text": [
      "The most frequent age per participant is 35 years old.\n"
     ]
    },
    {
     "data": {
      "image/png": "[encoded data removed]",
      "text/plain": [
       "<Figure size 720x720 with 1 Axes>"
      ]
     },
     "metadata": {
      "needs_background": "light"
     },
     "output_type": "display_data"
    }
   ],
   "source": [
    "age_counts.plot(kind=\"bar\", figsize=(10,10), color = \"b\",legend=True)\n",
    "plt.ylabel(\"Number of Participants Per Age\")\n",
    "plt.xlabel(\"Participant Age\")\n",
    "plt.title(\"Participant by Age\")\n",
    "plt.savefig('Participents by age')\n",
    "\n",
    "print(\"The most frequent age per participant is 35 years old.\")"
   ]
  },
  {
   "cell_type": "code",
   "execution_count": 34,
   "id": "1549c13f",
   "metadata": {},
   "outputs": [
    {
     "data": {
      "text/plain": [
       " $72,000.00      12\n",
       " $80,000.00      11\n",
       " $79,000.00      10\n",
       " $75,000.00       9\n",
       " $71,000.00       9\n",
       "                 ..\n",
       " $123,000.00      1\n",
       " $37,000.00       1\n",
       " $115,000.00      1\n",
       " $148,000.00      1\n",
       " $139,000.00      1\n",
       "Name: Estimated_Salary, Length: 117, dtype: int64"
      ]
     },
     "execution_count": 34,
     "metadata": {},
     "output_type": "execute_result"
    }
   ],
   "source": [
    "salary_counts = Social_Network_Ads[\"Estimated_Salary\"].value_counts()\n",
    "salary_counts"
   ]
  },
  {
   "cell_type": "code",
   "execution_count": 35,
   "id": "e2b8ba80",
   "metadata": {},
   "outputs": [
    {
     "data": {
      "text/html": [
       "<div>\n",
       "<style scoped>\n",
       "    .dataframe tbody tr th:only-of-type {\n",
       "        vertical-align: middle;\n",
       "    }\n",
       "\n",
       "    .dataframe tbody tr th {\n",
       "        vertical-align: top;\n",
       "    }\n",
       "\n",
       "    .dataframe thead th {\n",
       "        text-align: right;\n",
       "    }\n",
       "</style>\n",
       "<table border=\"1\" class=\"dataframe\">\n",
       "  <thead>\n",
       "    <tr style=\"text-align: right;\">\n",
       "      <th></th>\n",
       "      <th>Estimated_Salary</th>\n",
       "    </tr>\n",
       "  </thead>\n",
       "  <tbody>\n",
       "    <tr>\n",
       "      <th>$72,000.00</th>\n",
       "      <td>12</td>\n",
       "    </tr>\n",
       "    <tr>\n",
       "      <th>$80,000.00</th>\n",
       "      <td>11</td>\n",
       "    </tr>\n",
       "    <tr>\n",
       "      <th>$79,000.00</th>\n",
       "      <td>10</td>\n",
       "    </tr>\n",
       "    <tr>\n",
       "      <th>$75,000.00</th>\n",
       "      <td>9</td>\n",
       "    </tr>\n",
       "    <tr>\n",
       "      <th>$71,000.00</th>\n",
       "      <td>9</td>\n",
       "    </tr>\n",
       "  </tbody>\n",
       "</table>\n",
       "</div>"
      ],
      "text/plain": [
       "              Estimated_Salary\n",
       " $72,000.00                 12\n",
       " $80,000.00                 11\n",
       " $79,000.00                 10\n",
       " $75,000.00                  9\n",
       " $71,000.00                  9"
      ]
     },
     "execution_count": 35,
     "metadata": {},
     "output_type": "execute_result"
    }
   ],
   "source": [
    "# Convert the salary_counts Series into a DataFrame\n",
    "salary_counts_df = pd.DataFrame(salary_counts)\n",
    "salary_counts_df.head()"
   ]
  },
  {
   "cell_type": "code",
   "execution_count": 36,
   "id": "9e20b4ba",
   "metadata": {},
   "outputs": [
    {
     "data": {
      "text/html": [
       "<div>\n",
       "<style scoped>\n",
       "    .dataframe tbody tr th:only-of-type {\n",
       "        vertical-align: middle;\n",
       "    }\n",
       "\n",
       "    .dataframe tbody tr th {\n",
       "        vertical-align: top;\n",
       "    }\n",
       "\n",
       "    .dataframe thead th {\n",
       "        text-align: right;\n",
       "    }\n",
       "</style>\n",
       "<table border=\"1\" class=\"dataframe\">\n",
       "  <thead>\n",
       "    <tr style=\"text-align: right;\">\n",
       "      <th></th>\n",
       "      <th>Estimated_Salary</th>\n",
       "    </tr>\n",
       "  </thead>\n",
       "  <tbody>\n",
       "    <tr>\n",
       "      <th>$72,000.00</th>\n",
       "      <td>12</td>\n",
       "    </tr>\n",
       "    <tr>\n",
       "      <th>$80,000.00</th>\n",
       "      <td>11</td>\n",
       "    </tr>\n",
       "    <tr>\n",
       "      <th>$79,000.00</th>\n",
       "      <td>10</td>\n",
       "    </tr>\n",
       "    <tr>\n",
       "      <th>$75,000.00</th>\n",
       "      <td>9</td>\n",
       "    </tr>\n",
       "    <tr>\n",
       "      <th>$71,000.00</th>\n",
       "      <td>9</td>\n",
       "    </tr>\n",
       "    <tr>\n",
       "      <th>...</th>\n",
       "      <td>...</td>\n",
       "    </tr>\n",
       "    <tr>\n",
       "      <th>$123,000.00</th>\n",
       "      <td>1</td>\n",
       "    </tr>\n",
       "    <tr>\n",
       "      <th>$37,000.00</th>\n",
       "      <td>1</td>\n",
       "    </tr>\n",
       "    <tr>\n",
       "      <th>$115,000.00</th>\n",
       "      <td>1</td>\n",
       "    </tr>\n",
       "    <tr>\n",
       "      <th>$148,000.00</th>\n",
       "      <td>1</td>\n",
       "    </tr>\n",
       "    <tr>\n",
       "      <th>$139,000.00</th>\n",
       "      <td>1</td>\n",
       "    </tr>\n",
       "  </tbody>\n",
       "</table>\n",
       "<p>117 rows × 1 columns</p>\n",
       "</div>"
      ],
      "text/plain": [
       "               Estimated_Salary\n",
       " $72,000.00                  12\n",
       " $80,000.00                  11\n",
       " $79,000.00                  10\n",
       " $75,000.00                   9\n",
       " $71,000.00                   9\n",
       "...                         ...\n",
       " $123,000.00                  1\n",
       " $37,000.00                   1\n",
       " $115,000.00                  1\n",
       " $148,000.00                  1\n",
       " $139,000.00                  1\n",
       "\n",
       "[117 rows x 1 columns]"
      ]
     },
     "execution_count": 36,
     "metadata": {},
     "output_type": "execute_result"
    }
   ],
   "source": [
    "# Convert the column name into \"Sum of ages\"\n",
    "salary_counts_df = salary_counts_df.rename(\n",
    "    columns={\"Estimated Salary\": \"Sum of Estimated Salary\"})\n",
    "salary_counts_df"
   ]
  },
  {
   "cell_type": "code",
   "execution_count": 37,
   "id": "98bca1e5",
   "metadata": {},
   "outputs": [
    {
     "data": {
      "text/html": [
       "<div>\n",
       "<style scoped>\n",
       "    .dataframe tbody tr th:only-of-type {\n",
       "        vertical-align: middle;\n",
       "    }\n",
       "\n",
       "    .dataframe tbody tr th {\n",
       "        vertical-align: top;\n",
       "    }\n",
       "\n",
       "    .dataframe thead th {\n",
       "        text-align: right;\n",
       "    }\n",
       "</style>\n",
       "<table border=\"1\" class=\"dataframe\">\n",
       "  <thead>\n",
       "    <tr style=\"text-align: right;\">\n",
       "      <th></th>\n",
       "      <th>User_ID</th>\n",
       "      <th>Age</th>\n",
       "      <th>Purchased</th>\n",
       "    </tr>\n",
       "    <tr>\n",
       "      <th>Estimated_Salary</th>\n",
       "      <th></th>\n",
       "      <th></th>\n",
       "      <th></th>\n",
       "    </tr>\n",
       "  </thead>\n",
       "  <tbody>\n",
       "    <tr>\n",
       "      <th>$100,000.00</th>\n",
       "      <td>15744279.00</td>\n",
       "      <td>32.00</td>\n",
       "      <td>1.00</td>\n",
       "    </tr>\n",
       "    <tr>\n",
       "      <th>$101,000.00</th>\n",
       "      <td>15660866.00</td>\n",
       "      <td>58.00</td>\n",
       "      <td>1.00</td>\n",
       "    </tr>\n",
       "    <tr>\n",
       "      <th>$102,000.00</th>\n",
       "      <td>15593715.00</td>\n",
       "      <td>60.00</td>\n",
       "      <td>1.00</td>\n",
       "    </tr>\n",
       "    <tr>\n",
       "      <th>$104,000.00</th>\n",
       "      <td>15669887.25</td>\n",
       "      <td>51.25</td>\n",
       "      <td>1.00</td>\n",
       "    </tr>\n",
       "    <tr>\n",
       "      <th>$105,000.00</th>\n",
       "      <td>15729908.00</td>\n",
       "      <td>47.00</td>\n",
       "      <td>1.00</td>\n",
       "    </tr>\n",
       "    <tr>\n",
       "      <th>...</th>\n",
       "      <td>...</td>\n",
       "      <td>...</td>\n",
       "      <td>...</td>\n",
       "    </tr>\n",
       "    <tr>\n",
       "      <th>$93,000.00</th>\n",
       "      <td>15734161.00</td>\n",
       "      <td>37.00</td>\n",
       "      <td>1.00</td>\n",
       "    </tr>\n",
       "    <tr>\n",
       "      <th>$95,000.00</th>\n",
       "      <td>15569641.00</td>\n",
       "      <td>58.00</td>\n",
       "      <td>1.00</td>\n",
       "    </tr>\n",
       "    <tr>\n",
       "      <th>$96,000.00</th>\n",
       "      <td>15691158.75</td>\n",
       "      <td>40.00</td>\n",
       "      <td>0.75</td>\n",
       "    </tr>\n",
       "    <tr>\n",
       "      <th>$97,000.00</th>\n",
       "      <td>15753102.00</td>\n",
       "      <td>35.00</td>\n",
       "      <td>1.00</td>\n",
       "    </tr>\n",
       "    <tr>\n",
       "      <th>$99,000.00</th>\n",
       "      <td>15699619.00</td>\n",
       "      <td>36.00</td>\n",
       "      <td>1.00</td>\n",
       "    </tr>\n",
       "  </tbody>\n",
       "</table>\n",
       "<p>117 rows × 3 columns</p>\n",
       "</div>"
      ],
      "text/plain": [
       "                      User_ID    Age  Purchased\n",
       "Estimated_Salary                               \n",
       " $100,000.00      15744279.00  32.00       1.00\n",
       " $101,000.00      15660866.00  58.00       1.00\n",
       " $102,000.00      15593715.00  60.00       1.00\n",
       " $104,000.00      15669887.25  51.25       1.00\n",
       " $105,000.00      15729908.00  47.00       1.00\n",
       "...                       ...    ...        ...\n",
       " $93,000.00       15734161.00  37.00       1.00\n",
       " $95,000.00       15569641.00  58.00       1.00\n",
       " $96,000.00       15691158.75  40.00       0.75\n",
       " $97,000.00       15753102.00  35.00       1.00\n",
       " $99,000.00       15699619.00  36.00       1.00\n",
       "\n",
       "[117 rows x 3 columns]"
      ]
     },
     "execution_count": 37,
     "metadata": {},
     "output_type": "execute_result"
    }
   ],
   "source": [
    "#Determine average (mean) salary and groupby mean\n",
    "average_salary= Social_Network_Ads.groupby(['Estimated_Salary']).mean()\n",
    "average_salary"
   ]
  },
  {
   "cell_type": "code",
   "execution_count": 38,
   "id": "742979fe",
   "metadata": {},
   "outputs": [
    {
     "data": {
      "text/html": [
       "<div>\n",
       "<style scoped>\n",
       "    .dataframe tbody tr th:only-of-type {\n",
       "        vertical-align: middle;\n",
       "    }\n",
       "\n",
       "    .dataframe tbody tr th {\n",
       "        vertical-align: top;\n",
       "    }\n",
       "\n",
       "    .dataframe thead th {\n",
       "        text-align: right;\n",
       "    }\n",
       "</style>\n",
       "<table border=\"1\" class=\"dataframe\">\n",
       "  <thead>\n",
       "    <tr style=\"text-align: right;\">\n",
       "      <th></th>\n",
       "      <th>Purchased</th>\n",
       "    </tr>\n",
       "    <tr>\n",
       "      <th>Age</th>\n",
       "      <th></th>\n",
       "    </tr>\n",
       "  </thead>\n",
       "  <tbody>\n",
       "    <tr>\n",
       "      <th>18</th>\n",
       "      <td>5</td>\n",
       "    </tr>\n",
       "    <tr>\n",
       "      <th>19</th>\n",
       "      <td>7</td>\n",
       "    </tr>\n",
       "    <tr>\n",
       "      <th>20</th>\n",
       "      <td>7</td>\n",
       "    </tr>\n",
       "    <tr>\n",
       "      <th>21</th>\n",
       "      <td>4</td>\n",
       "    </tr>\n",
       "    <tr>\n",
       "      <th>22</th>\n",
       "      <td>5</td>\n",
       "    </tr>\n",
       "    <tr>\n",
       "      <th>23</th>\n",
       "      <td>6</td>\n",
       "    </tr>\n",
       "    <tr>\n",
       "      <th>24</th>\n",
       "      <td>9</td>\n",
       "    </tr>\n",
       "    <tr>\n",
       "      <th>25</th>\n",
       "      <td>6</td>\n",
       "    </tr>\n",
       "    <tr>\n",
       "      <th>26</th>\n",
       "      <td>16</td>\n",
       "    </tr>\n",
       "    <tr>\n",
       "      <th>27</th>\n",
       "      <td>13</td>\n",
       "    </tr>\n",
       "    <tr>\n",
       "      <th>28</th>\n",
       "      <td>12</td>\n",
       "    </tr>\n",
       "    <tr>\n",
       "      <th>29</th>\n",
       "      <td>10</td>\n",
       "    </tr>\n",
       "    <tr>\n",
       "      <th>30</th>\n",
       "      <td>11</td>\n",
       "    </tr>\n",
       "    <tr>\n",
       "      <th>31</th>\n",
       "      <td>11</td>\n",
       "    </tr>\n",
       "    <tr>\n",
       "      <th>32</th>\n",
       "      <td>9</td>\n",
       "    </tr>\n",
       "    <tr>\n",
       "      <th>33</th>\n",
       "      <td>9</td>\n",
       "    </tr>\n",
       "    <tr>\n",
       "      <th>34</th>\n",
       "      <td>6</td>\n",
       "    </tr>\n",
       "    <tr>\n",
       "      <th>35</th>\n",
       "      <td>32</td>\n",
       "    </tr>\n",
       "    <tr>\n",
       "      <th>36</th>\n",
       "      <td>12</td>\n",
       "    </tr>\n",
       "    <tr>\n",
       "      <th>37</th>\n",
       "      <td>20</td>\n",
       "    </tr>\n",
       "  </tbody>\n",
       "</table>\n",
       "</div>"
      ],
      "text/plain": [
       "     Purchased\n",
       "Age           \n",
       "18           5\n",
       "19           7\n",
       "20           7\n",
       "21           4\n",
       "22           5\n",
       "23           6\n",
       "24           9\n",
       "25           6\n",
       "26          16\n",
       "27          13\n",
       "28          12\n",
       "29          10\n",
       "30          11\n",
       "31          11\n",
       "32           9\n",
       "33           9\n",
       "34           6\n",
       "35          32\n",
       "36          12\n",
       "37          20"
      ]
     },
     "execution_count": 38,
     "metadata": {},
     "output_type": "execute_result"
    }
   ],
   "source": [
    "#create table with count of purchases per age\n",
    "line_chart = Social_Network_Ads.groupby('Age').count()['Purchased']\n",
    "age_purchase= pd.DataFrame(line_chart)\n",
    "age_purchase.head(20)"
   ]
  },
  {
   "cell_type": "code",
   "execution_count": 39,
   "id": "5b6fe51f",
   "metadata": {},
   "outputs": [
    {
     "name": "stdout",
     "output_type": "stream",
     "text": [
      "The rate of purcahses peak between ages 30-40.\n"
     ]
    },
    {
     "data": {
      "image/png": "[encoded data removed]",
      "text/plain": [
       "<Figure size 1080x1080 with 1 Axes>"
      ]
     },
     "metadata": {
      "needs_background": "light"
     },
     "output_type": "display_data"
    }
   ],
   "source": [
    "#set-up line chart to show how many instances purchases were made participant per age\n",
    "\n",
    "age_purchase.plot(kind=\"line\", figsize=(15,15), color = \"b\", legend=True)\n",
    "plt.ylabel(\"Purchases\")\n",
    "plt.xlabel(\"Age\")\n",
    "plt.title(\"Purchases Influenced by Ad Campaign per Age\")\n",
    "plt.savefig(\"Purchases Influenced by Ad Campaign per Age - Line graph\")\n",
    "\n",
    "print(\"The rate of purcahses peak between ages 30-40.\")"
   ]
  },
  {
   "cell_type": "code",
   "execution_count": 40,
   "id": "42a6d4f3",
   "metadata": {},
   "outputs": [
    {
     "data": {
      "text/html": [
       "<div>\n",
       "<style scoped>\n",
       "    .dataframe tbody tr th:only-of-type {\n",
       "        vertical-align: middle;\n",
       "    }\n",
       "\n",
       "    .dataframe tbody tr th {\n",
       "        vertical-align: top;\n",
       "    }\n",
       "\n",
       "    .dataframe thead th {\n",
       "        text-align: right;\n",
       "    }\n",
       "</style>\n",
       "<table border=\"1\" class=\"dataframe\">\n",
       "  <thead>\n",
       "    <tr style=\"text-align: right;\">\n",
       "      <th></th>\n",
       "      <th>Purchased</th>\n",
       "    </tr>\n",
       "    <tr>\n",
       "      <th>Gender</th>\n",
       "      <th></th>\n",
       "    </tr>\n",
       "  </thead>\n",
       "  <tbody>\n",
       "    <tr>\n",
       "      <th>Female</th>\n",
       "      <td>204</td>\n",
       "    </tr>\n",
       "    <tr>\n",
       "      <th>Male</th>\n",
       "      <td>196</td>\n",
       "    </tr>\n",
       "  </tbody>\n",
       "</table>\n",
       "</div>"
      ],
      "text/plain": [
       "        Purchased\n",
       "Gender           \n",
       "Female        204\n",
       "Male          196"
      ]
     },
     "execution_count": 40,
     "metadata": {},
     "output_type": "execute_result"
    }
   ],
   "source": [
    "#create table with count of purchases per gender\n",
    "bar_chart = Social_Network_Ads.groupby('Gender').count()['Purchased']\n",
    "gender_purchase= pd.DataFrame(bar_chart)\n",
    "gender_purchase.head(20)"
   ]
  },
  {
   "cell_type": "code",
   "execution_count": 41,
   "id": "3fb7afb0",
   "metadata": {},
   "outputs": [
    {
     "data": {
      "image/png": "[encoded data removed]",
      "text/plain": [
       "<Figure size 432x288 with 1 Axes>"
      ]
     },
     "metadata": {},
     "output_type": "display_data"
    },
    {
     "name": "stdout",
     "output_type": "stream",
     "text": [
      "Slightly more purchases were made by Females than males; 2% to be exact.\n"
     ]
    }
   ],
   "source": [
    "# Generate a pie plot showing the distribution of male/female purchases\n",
    "counts = Social_Network_Ads.Gender.value_counts()\n",
    "counts.plot(kind=\"pie\",autopct='%1.1f%%')\n",
    "plt.title(\"Purchases Influenced by Ad Campaign per Gender\")\n",
    "plt.savefig(\"Purchases Influenced by Ad Campaign per Gender_PIE\")\n",
    "plt.show()\n",
    "print(\"Slightly more purchases were made by Females than males; 2% to be exact.\")"
   ]
  },
  {
   "cell_type": "code",
   "execution_count": 3,
   "id": "8a758caf",
   "metadata": {},
   "outputs": [
    {
     "data": {
      "text/html": [
       "<div>\n",
       "<style scoped>\n",
       "    .dataframe tbody tr th:only-of-type {\n",
       "        vertical-align: middle;\n",
       "    }\n",
       "\n",
       "    .dataframe tbody tr th {\n",
       "        vertical-align: top;\n",
       "    }\n",
       "\n",
       "    .dataframe thead th {\n",
       "        text-align: right;\n",
       "    }\n",
       "</style>\n",
       "<table border=\"1\" class=\"dataframe\">\n",
       "  <thead>\n",
       "    <tr style=\"text-align: right;\">\n",
       "      <th></th>\n",
       "      <th>ad_id</th>\n",
       "      <th>xyz_campaign_id</th>\n",
       "      <th>fb_campaign_id</th>\n",
       "      <th>age</th>\n",
       "      <th>gender</th>\n",
       "      <th>interest</th>\n",
       "      <th>Impressions</th>\n",
       "      <th>Clicks</th>\n",
       "      <th>Spent</th>\n",
       "      <th>Total_Conversion</th>\n",
       "      <th>Approved_Conversion</th>\n",
       "    </tr>\n",
       "  </thead>\n",
       "  <tbody>\n",
       "    <tr>\n",
       "      <th>0</th>\n",
       "      <td>708746</td>\n",
       "      <td>916</td>\n",
       "      <td>103916</td>\n",
       "      <td>30-34</td>\n",
       "      <td>M</td>\n",
       "      <td>15</td>\n",
       "      <td>7350</td>\n",
       "      <td>1</td>\n",
       "      <td>1.43</td>\n",
       "      <td>2</td>\n",
       "      <td>1</td>\n",
       "    </tr>\n",
       "    <tr>\n",
       "      <th>1</th>\n",
       "      <td>708749</td>\n",
       "      <td>916</td>\n",
       "      <td>103917</td>\n",
       "      <td>30-34</td>\n",
       "      <td>M</td>\n",
       "      <td>16</td>\n",
       "      <td>17861</td>\n",
       "      <td>2</td>\n",
       "      <td>1.82</td>\n",
       "      <td>2</td>\n",
       "      <td>0</td>\n",
       "    </tr>\n",
       "    <tr>\n",
       "      <th>2</th>\n",
       "      <td>708771</td>\n",
       "      <td>916</td>\n",
       "      <td>103920</td>\n",
       "      <td>30-34</td>\n",
       "      <td>M</td>\n",
       "      <td>20</td>\n",
       "      <td>693</td>\n",
       "      <td>0</td>\n",
       "      <td>0.00</td>\n",
       "      <td>1</td>\n",
       "      <td>0</td>\n",
       "    </tr>\n",
       "    <tr>\n",
       "      <th>3</th>\n",
       "      <td>708815</td>\n",
       "      <td>916</td>\n",
       "      <td>103928</td>\n",
       "      <td>30-34</td>\n",
       "      <td>M</td>\n",
       "      <td>28</td>\n",
       "      <td>4259</td>\n",
       "      <td>1</td>\n",
       "      <td>1.25</td>\n",
       "      <td>1</td>\n",
       "      <td>0</td>\n",
       "    </tr>\n",
       "    <tr>\n",
       "      <th>4</th>\n",
       "      <td>708818</td>\n",
       "      <td>916</td>\n",
       "      <td>103928</td>\n",
       "      <td>30-34</td>\n",
       "      <td>M</td>\n",
       "      <td>28</td>\n",
       "      <td>4133</td>\n",
       "      <td>1</td>\n",
       "      <td>1.29</td>\n",
       "      <td>1</td>\n",
       "      <td>1</td>\n",
       "    </tr>\n",
       "  </tbody>\n",
       "</table>\n",
       "</div>"
      ],
      "text/plain": [
       "    ad_id  xyz_campaign_id  fb_campaign_id    age gender  interest  \\\n",
       "0  708746              916          103916  30-34      M        15   \n",
       "1  708749              916          103917  30-34      M        16   \n",
       "2  708771              916          103920  30-34      M        20   \n",
       "3  708815              916          103928  30-34      M        28   \n",
       "4  708818              916          103928  30-34      M        28   \n",
       "\n",
       "   Impressions  Clicks  Spent  Total_Conversion  Approved_Conversion  \n",
       "0         7350       1   1.43                 2                    1  \n",
       "1        17861       2   1.82                 2                    0  \n",
       "2          693       0   0.00                 1                    0  \n",
       "3         4259       1   1.25                 1                    0  \n",
       "4         4133       1   1.29                 1                    1  "
      ]
     },
     "execution_count": 3,
     "metadata": {},
     "output_type": "execute_result"
    }
   ],
   "source": [
    "# Hinley's graphs\n",
    "conversion_data = pd.read_csv('KAG_conversion_data.csv')   \n",
    "conversion_data.head()"
   ]
  },
  {
   "cell_type": "code",
   "execution_count": 4,
   "id": "6ee92549",
   "metadata": {},
   "outputs": [
    {
     "name": "stdout",
     "output_type": "stream",
     "text": [
      "<class 'pandas.core.frame.DataFrame'>\n",
      "RangeIndex: 1143 entries, 0 to 1142\n",
      "Data columns (total 11 columns):\n",
      " #   Column               Non-Null Count  Dtype  \n",
      "---  ------               --------------  -----  \n",
      " 0   ad_id                1143 non-null   int64  \n",
      " 1   xyz_campaign_id      1143 non-null   int64  \n",
      " 2   fb_campaign_id       1143 non-null   int64  \n",
      " 3   age                  1143 non-null   object \n",
      " 4   gender               1143 non-null   object \n",
      " 5   interest             1143 non-null   int64  \n",
      " 6   Impressions          1143 non-null   int64  \n",
      " 7   Clicks               1143 non-null   int64  \n",
      " 8   Spent                1143 non-null   float64\n",
      " 9   Total_Conversion     1143 non-null   int64  \n",
      " 10  Approved_Conversion  1143 non-null   int64  \n",
      "dtypes: float64(1), int64(8), object(2)\n",
      "memory usage: 98.4+ KB\n"
     ]
    }
   ],
   "source": [
    "# checking for types/irregularities \n",
    "conversion_data.info()"
   ]
  },
  {
   "cell_type": "code",
   "execution_count": 5,
   "id": "409fd540",
   "metadata": {},
   "outputs": [
    {
     "data": {
      "text/html": [
       "<div>\n",
       "<style scoped>\n",
       "    .dataframe tbody tr th:only-of-type {\n",
       "        vertical-align: middle;\n",
       "    }\n",
       "\n",
       "    .dataframe tbody tr th {\n",
       "        vertical-align: top;\n",
       "    }\n",
       "\n",
       "    .dataframe thead th {\n",
       "        text-align: right;\n",
       "    }\n",
       "</style>\n",
       "<table border=\"1\" class=\"dataframe\">\n",
       "  <thead>\n",
       "    <tr style=\"text-align: right;\">\n",
       "      <th></th>\n",
       "      <th>xyz_campaign_id</th>\n",
       "      <th>age</th>\n",
       "      <th>gender</th>\n",
       "      <th>interest</th>\n",
       "      <th>Impressions</th>\n",
       "      <th>Clicks</th>\n",
       "      <th>Spent</th>\n",
       "      <th>Total_Conversion</th>\n",
       "      <th>Approved_Conversion</th>\n",
       "    </tr>\n",
       "  </thead>\n",
       "  <tbody>\n",
       "    <tr>\n",
       "      <th>0</th>\n",
       "      <td>916</td>\n",
       "      <td>30-34</td>\n",
       "      <td>M</td>\n",
       "      <td>15</td>\n",
       "      <td>7350</td>\n",
       "      <td>1</td>\n",
       "      <td>1.430000</td>\n",
       "      <td>2</td>\n",
       "      <td>1</td>\n",
       "    </tr>\n",
       "    <tr>\n",
       "      <th>1</th>\n",
       "      <td>916</td>\n",
       "      <td>30-34</td>\n",
       "      <td>M</td>\n",
       "      <td>16</td>\n",
       "      <td>17861</td>\n",
       "      <td>2</td>\n",
       "      <td>1.820000</td>\n",
       "      <td>2</td>\n",
       "      <td>0</td>\n",
       "    </tr>\n",
       "    <tr>\n",
       "      <th>2</th>\n",
       "      <td>916</td>\n",
       "      <td>30-34</td>\n",
       "      <td>M</td>\n",
       "      <td>20</td>\n",
       "      <td>693</td>\n",
       "      <td>0</td>\n",
       "      <td>0.000000</td>\n",
       "      <td>1</td>\n",
       "      <td>0</td>\n",
       "    </tr>\n",
       "    <tr>\n",
       "      <th>3</th>\n",
       "      <td>916</td>\n",
       "      <td>30-34</td>\n",
       "      <td>M</td>\n",
       "      <td>28</td>\n",
       "      <td>4259</td>\n",
       "      <td>1</td>\n",
       "      <td>1.250000</td>\n",
       "      <td>1</td>\n",
       "      <td>0</td>\n",
       "    </tr>\n",
       "    <tr>\n",
       "      <th>4</th>\n",
       "      <td>916</td>\n",
       "      <td>30-34</td>\n",
       "      <td>M</td>\n",
       "      <td>28</td>\n",
       "      <td>4133</td>\n",
       "      <td>1</td>\n",
       "      <td>1.290000</td>\n",
       "      <td>1</td>\n",
       "      <td>1</td>\n",
       "    </tr>\n",
       "    <tr>\n",
       "      <th>...</th>\n",
       "      <td>...</td>\n",
       "      <td>...</td>\n",
       "      <td>...</td>\n",
       "      <td>...</td>\n",
       "      <td>...</td>\n",
       "      <td>...</td>\n",
       "      <td>...</td>\n",
       "      <td>...</td>\n",
       "      <td>...</td>\n",
       "    </tr>\n",
       "    <tr>\n",
       "      <th>1138</th>\n",
       "      <td>1178</td>\n",
       "      <td>45-49</td>\n",
       "      <td>F</td>\n",
       "      <td>109</td>\n",
       "      <td>1129773</td>\n",
       "      <td>252</td>\n",
       "      <td>358.189997</td>\n",
       "      <td>13</td>\n",
       "      <td>2</td>\n",
       "    </tr>\n",
       "    <tr>\n",
       "      <th>1139</th>\n",
       "      <td>1178</td>\n",
       "      <td>45-49</td>\n",
       "      <td>F</td>\n",
       "      <td>110</td>\n",
       "      <td>637549</td>\n",
       "      <td>120</td>\n",
       "      <td>173.880003</td>\n",
       "      <td>3</td>\n",
       "      <td>0</td>\n",
       "    </tr>\n",
       "    <tr>\n",
       "      <th>1140</th>\n",
       "      <td>1178</td>\n",
       "      <td>45-49</td>\n",
       "      <td>F</td>\n",
       "      <td>111</td>\n",
       "      <td>151531</td>\n",
       "      <td>28</td>\n",
       "      <td>40.289999</td>\n",
       "      <td>2</td>\n",
       "      <td>0</td>\n",
       "    </tr>\n",
       "    <tr>\n",
       "      <th>1141</th>\n",
       "      <td>1178</td>\n",
       "      <td>45-49</td>\n",
       "      <td>F</td>\n",
       "      <td>113</td>\n",
       "      <td>790253</td>\n",
       "      <td>135</td>\n",
       "      <td>198.710001</td>\n",
       "      <td>8</td>\n",
       "      <td>2</td>\n",
       "    </tr>\n",
       "    <tr>\n",
       "      <th>1142</th>\n",
       "      <td>1178</td>\n",
       "      <td>45-49</td>\n",
       "      <td>F</td>\n",
       "      <td>114</td>\n",
       "      <td>513161</td>\n",
       "      <td>114</td>\n",
       "      <td>165.609999</td>\n",
       "      <td>5</td>\n",
       "      <td>2</td>\n",
       "    </tr>\n",
       "  </tbody>\n",
       "</table>\n",
       "<p>1143 rows × 9 columns</p>\n",
       "</div>"
      ],
      "text/plain": [
       "      xyz_campaign_id    age gender  interest  Impressions  Clicks  \\\n",
       "0                 916  30-34      M        15         7350       1   \n",
       "1                 916  30-34      M        16        17861       2   \n",
       "2                 916  30-34      M        20          693       0   \n",
       "3                 916  30-34      M        28         4259       1   \n",
       "4                 916  30-34      M        28         4133       1   \n",
       "...               ...    ...    ...       ...          ...     ...   \n",
       "1138             1178  45-49      F       109      1129773     252   \n",
       "1139             1178  45-49      F       110       637549     120   \n",
       "1140             1178  45-49      F       111       151531      28   \n",
       "1141             1178  45-49      F       113       790253     135   \n",
       "1142             1178  45-49      F       114       513161     114   \n",
       "\n",
       "           Spent  Total_Conversion  Approved_Conversion  \n",
       "0       1.430000                 2                    1  \n",
       "1       1.820000                 2                    0  \n",
       "2       0.000000                 1                    0  \n",
       "3       1.250000                 1                    0  \n",
       "4       1.290000                 1                    1  \n",
       "...          ...               ...                  ...  \n",
       "1138  358.189997                13                    2  \n",
       "1139  173.880003                 3                    0  \n",
       "1140   40.289999                 2                    0  \n",
       "1141  198.710001                 8                    2  \n",
       "1142  165.609999                 5                    2  \n",
       "\n",
       "[1143 rows x 9 columns]"
      ]
     },
     "execution_count": 5,
     "metadata": {},
     "output_type": "execute_result"
    }
   ],
   "source": [
    "# there are as many ad ids as observations and can therefore be dropped. Did the same fore FB campaign ids\n",
    "conversion_data.drop(['ad_id'], axis = 1, inplace = True)\n",
    "conversion_data.drop(['fb_campaign_id'], axis = 1, inplace = True)\n",
    "conversion_data"
   ]
  },
  {
   "cell_type": "code",
   "execution_count": 6,
   "id": "d48f1464",
   "metadata": {},
   "outputs": [
    {
     "data": {
      "text/plain": [
       "58705"
      ]
     },
     "execution_count": 6,
     "metadata": {},
     "output_type": "execute_result"
    }
   ],
   "source": [
    "spent = conversion_data['Spent'].sum()\n",
    "round(spent)"
   ]
  },
  {
   "cell_type": "code",
   "execution_count": 7,
   "id": "28f3e6c0",
   "metadata": {},
   "outputs": [
    {
     "data": {
      "text/plain": [
       "213434828"
      ]
     },
     "execution_count": 7,
     "metadata": {},
     "output_type": "execute_result"
    }
   ],
   "source": [
    "Impressions = conversion_data['Impressions'].sum()\n",
    "Impressions"
   ]
  },
  {
   "cell_type": "code",
   "execution_count": 8,
   "id": "a0ed3447",
   "metadata": {},
   "outputs": [
    {
     "data": {
      "image/png": "[encoded data removed]",
      "text/plain": [
       "<Figure size 720x432 with 1 Axes>"
      ]
     },
     "metadata": {
      "needs_background": "light"
     },
     "output_type": "display_data"
    }
   ],
   "source": [
    "# count the campaign\n",
    "fig=plt.figure(figsize=(10,6))\n",
    "sns.countplot(x ='xyz_campaign_id', data = conversion_data)\n",
    "plt.xlabel('Company campaigns')\n",
    "plt.ylabel('The number of ads')\n",
    "plt.title('The number of advertisements', fontsize=16)\n",
    "plt.savefig(\"kag_images/campaigncount_final.png\")\n",
    "plt.show()"
   ]
  },
  {
   "cell_type": "code",
   "execution_count": 9,
   "id": "0de430f5",
   "metadata": {
    "scrolled": true
   },
   "outputs": [
    {
     "data": {
      "image/png": "[encoded data removed]",
      "text/plain": [
       "<Figure size 720x432 with 1 Axes>"
      ]
     },
     "metadata": {
      "needs_background": "light"
     },
     "output_type": "display_data"
    }
   ],
   "source": [
    "#Approved_Conversion\n",
    "fig=plt.figure(figsize=(10,6))\n",
    "plt.bar(conversion_data[\"xyz_campaign_id\"].astype(str), conversion_data[\"Approved_Conversion\"])\n",
    "plt.ylabel(\"Approved Conversion\")\n",
    "plt.title(\"Campaign vs Approved Conversion\", fontsize=16)\n",
    "plt.savefig(\"kag_images/campaign_bar_final.png\")\n",
    "plt.show()\n",
    "\n",
    "# From the graph we can see that campaign 1178 has the highest approved conversions which means people are mostly buying things though this campign"
   ]
  },
  {
   "cell_type": "code",
   "execution_count": 11,
   "id": "c499fc77",
   "metadata": {},
   "outputs": [
    {
     "data": {
      "text/plain": [
       "M    592\n",
       "F    551\n",
       "Name: gender, dtype: int64"
      ]
     },
     "execution_count": 11,
     "metadata": {},
     "output_type": "execute_result"
    }
   ],
   "source": [
    "# gender\n",
    "gender = conversion_data['gender'].value_counts()\n",
    "gender"
   ]
  },
  {
   "cell_type": "code",
   "execution_count": 12,
   "id": "76c7ee6d",
   "metadata": {},
   "outputs": [
    {
     "data": {
      "image/png": "[encoded data removed]",
      "text/plain": [
       "<Figure size 720x432 with 1 Axes>"
      ]
     },
     "metadata": {
      "needs_background": "light"
     },
     "output_type": "display_data"
    }
   ],
   "source": [
    "fig=plt.figure(figsize=(10,6))\n",
    "gender = conversion_data['gender'].value_counts()\n",
    "plt.bar(gender.index.values,gender.values,  color=['blue','green'])\n",
    "plt.xlabel('Gender')\n",
    "plt.ylabel('The number of ads')\n",
    "plt.title('The number of ads by gender', fontsize=16)\n",
    "plt.savefig(\"kag_images/gender_bar_final.png\")\n",
    "plt.show();"
   ]
  },
  {
   "cell_type": "code",
   "execution_count": 13,
   "id": "b8bb5d68",
   "metadata": {},
   "outputs": [
    {
     "data": {
      "image/png": "[encoded data removed]",
      "text/plain": [
       "<Figure size 720x432 with 1 Axes>"
      ]
     },
     "metadata": {
      "needs_background": "light"
     },
     "output_type": "display_data"
    }
   ],
   "source": [
    "# age\n",
    "fig=plt.figure(figsize=(10,6))\n",
    "ages = conversion_data['age'].value_counts()\n",
    "plt.bar(ages.index.values,ages.values, color=['blue','green','orange','red'])\n",
    "plt.xlabel('Age')\n",
    "plt.ylabel('The number of ads')\n",
    "plt.title('The Age distribution for campaign ads', fontsize=16)\n",
    "plt.savefig(\"kag_images/age dis of campaign_final.png\")\n",
    "plt.show()"
   ]
  },
  {
   "cell_type": "code",
   "execution_count": 14,
   "id": "a87bd418",
   "metadata": {},
   "outputs": [
    {
     "data": {
      "image/png": "[encoded data removed]",
      "text/plain": [
       "<Figure size 720x432 with 1 Axes>"
      ]
     },
     "metadata": {
      "needs_background": "light"
     },
     "output_type": "display_data"
    }
   ],
   "source": [
    "fig=plt.figure(figsize=(10,6))\n",
    "sns.countplot(data=conversion_data, x='age', hue='gender')\n",
    "plt.title('Age distribution by Gender', fontsize=16)\n",
    "plt.grid(axis='y')\n",
    "plt.savefig(\"kag_images/age by gender_final.png\")"
   ]
  },
  {
   "cell_type": "code",
   "execution_count": 15,
   "id": "e0f0e7a6",
   "metadata": {},
   "outputs": [],
   "source": [
    "# Based on both graphs both genders have the same intrest but people in the age range 30-34 show the most intrest in the ad campaigns"
   ]
  },
  {
   "cell_type": "code",
   "execution_count": 16,
   "id": "1266aa64",
   "metadata": {},
   "outputs": [
    {
     "data": {
      "image/png": "[encoded data removed]",
      "text/plain": [
       "<Figure size 720x432 with 1 Axes>"
      ]
     },
     "metadata": {
      "needs_background": "light"
     },
     "output_type": "display_data"
    }
   ],
   "source": [
    "fig=plt.figure(figsize=(10,6))\n",
    "sns.set(style=\"whitegrid\")\n",
    "tips = sns.load_dataset(\"tips\")\n",
    "sns.barplot(x=conversion_data[\"xyz_campaign_id\"], y=conversion_data[\"Approved_Conversion\"], hue=conversion_data[\"age\"], data=tips)\n",
    "plt.title('Age vs. Campaign', fontsize=16)\n",
    "plt.savefig(\"kag_images/age vs campaign_final.png\")"
   ]
  },
  {
   "cell_type": "code",
   "execution_count": 17,
   "id": "e594cf22",
   "metadata": {},
   "outputs": [
    {
     "data": {
      "image/png": "[encoded data removed]",
      "text/plain": [
       "<Figure size 720x432 with 1 Axes>"
      ]
     },
     "metadata": {},
     "output_type": "display_data"
    }
   ],
   "source": [
    "# Campaign Ads - Interests\n",
    "fig=plt.figure(figsize=(10,6))\n",
    "plt.scatter(conversion_data[\"interest\"], conversion_data[\"Approved_Conversion\"])\n",
    "plt.title(\"Interest vs. Approved Conversion\", fontsize=16)\n",
    "plt.xlabel(\"Interest\")\n",
    "plt.ylabel(\"Approved Conversion\")\n",
    "plt.savefig(\"kag_images/Interest vs. Approved_final.png\")\n",
    "plt.show()"
   ]
  },
  {
   "cell_type": "code",
   "execution_count": 18,
   "id": "43ca99ab",
   "metadata": {},
   "outputs": [
    {
     "data": {
      "text/plain": [
       "<Figure size 720x432 with 0 Axes>"
      ]
     },
     "metadata": {},
     "output_type": "display_data"
    },
    {
     "data": {
      "image/png": "[encoded data removed]",
      "text/plain": [
       "<Figure size 440.8x216 with 2 Axes>"
      ]
     },
     "metadata": {},
     "output_type": "display_data"
    }
   ],
   "source": [
    "fig=plt.figure(figsize=(10,6))\n",
    "c = sns.FacetGrid(conversion_data,  col=\"gender\" )\n",
    "c.map(plt.scatter, \"interest\", \"Approved_Conversion\", alpha=.5)\n",
    "c.fig.subplots_adjust(top=.8)\n",
    "c.fig.suptitle(\"Gender vs.Interest\", fontsize=16)\n",
    "c.add_legend()\n",
    "plt.savefig(\"kag_images/age interest approved_final.png\")"
   ]
  },
  {
   "cell_type": "code",
   "execution_count": 19,
   "id": "f262868c",
   "metadata": {},
   "outputs": [],
   "source": [
    "# In the plots above, men tend to click more than women but women buy more products than men after clicking the add."
   ]
  },
  {
   "cell_type": "code",
   "execution_count": 20,
   "id": "a1b9ab30",
   "metadata": {},
   "outputs": [
    {
     "data": {
      "image/png": "[encoded data removed]",
      "text/plain": [
       "<Figure size 872.8x216 with 4 Axes>"
      ]
     },
     "metadata": {},
     "output_type": "display_data"
    }
   ],
   "source": [
    "g = sns.FacetGrid(conversion_data, col=\"age\")\n",
    "g.map(plt.scatter, \"interest\", \"Approved_Conversion\", alpha=.4)\n",
    "g.fig.subplots_adjust(top=.8)\n",
    "g.fig.suptitle(\"Age Groups vs. Interest\", fontsize=16)\n",
    "g.add_legend()\n",
    "plt.savefig(\"kag_images/Age Groups vs. Intrest_final.png\")"
   ]
  },
  {
   "cell_type": "code",
   "execution_count": 21,
   "id": "d03c9fde",
   "metadata": {},
   "outputs": [],
   "source": [
    "# In different age groups, it seems like people in age group 30-34 has more tendency to buy product after clicking the add."
   ]
  },
  {
   "cell_type": "code",
   "execution_count": 22,
   "id": "f6617fa9",
   "metadata": {},
   "outputs": [
    {
     "data": {
      "image/png": "[encoded data removed]",
      "text/plain": [
       "<Figure size 440.8x216 with 2 Axes>"
      ]
     },
     "metadata": {},
     "output_type": "display_data"
    }
   ],
   "source": [
    "# After inquiring the product\n",
    "g = sns.FacetGrid(conversion_data, col=\"gender\")\n",
    "g.map(plt.scatter, \"Total_Conversion\", \"Approved_Conversion\", alpha=.4)\n",
    "g.fig.subplots_adjust(top=.8)\n",
    "g.fig.suptitle(\"Total Conversion vs Approved Conversion by Gender\", fontsize=16)\n",
    "g.add_legend()\n",
    "plt.savefig(\"kag_images/Total Conversion vs Approved Conversion_final.png\")"
   ]
  },
  {
   "cell_type": "code",
   "execution_count": 23,
   "id": "261c66d1",
   "metadata": {},
   "outputs": [],
   "source": [
    "# From these 2 graphs, we can see that women buy more products than men after enquiring the product. However, men tends to enquire more about the product."
   ]
  },
  {
   "cell_type": "code",
   "execution_count": 24,
   "id": "5ec51c73",
   "metadata": {},
   "outputs": [
    {
     "data": {
      "image/png": "[encoded data removed]",
      "text/plain": [
       "<Figure size 872.8x216 with 4 Axes>"
      ]
     },
     "metadata": {},
     "output_type": "display_data"
    }
   ],
   "source": [
    "g = sns.FacetGrid(conversion_data, col=\"age\")\n",
    "g.map(plt.scatter, \"Total_Conversion\", \"Approved_Conversion\",alpha=.5)\n",
    "g.fig.subplots_adjust(top=.8)\n",
    "g.fig.suptitle(\"Total Conversion vs Approved Conversion by Age Groups\", fontsize=16)\n",
    "g.add_legend()\n",
    "plt.savefig(\"kag_images/Total Conversion vs Approved Conversion Age_final.png\")"
   ]
  },
  {
   "cell_type": "code",
   "execution_count": 25,
   "id": "68914fb8",
   "metadata": {},
   "outputs": [],
   "source": [
    "# People in age group 30-34 are more likely to buy the product after enquiring the product."
   ]
  },
  {
   "cell_type": "code",
   "execution_count": 26,
   "id": "22d6fb2a",
   "metadata": {},
   "outputs": [
    {
     "data": {
      "text/plain": [
       "38165"
      ]
     },
     "execution_count": 26,
     "metadata": {},
     "output_type": "execute_result"
    }
   ],
   "source": [
    "# total number of clicks\n",
    "clicks = conversion_data['Clicks'].sum()\n",
    "clicks"
   ]
  },
  {
   "cell_type": "code",
   "execution_count": 27,
   "id": "cdbd6d98",
   "metadata": {},
   "outputs": [
    {
     "data": {
      "text/plain": [
       "3264"
      ]
     },
     "execution_count": 27,
     "metadata": {},
     "output_type": "execute_result"
    }
   ],
   "source": [
    "#Total_Conversion\n",
    "Total_Conversion = conversion_data['Total_Conversion'].sum()\n",
    "Total_Conversion"
   ]
  },
  {
   "cell_type": "code",
   "execution_count": 28,
   "id": "a93a54f1",
   "metadata": {},
   "outputs": [
    {
     "data": {
      "image/png": "[encoded data removed]",
      "text/plain": [
       "<Figure size 432x288 with 1 Axes>"
      ]
     },
     "metadata": {},
     "output_type": "display_data"
    }
   ],
   "source": [
    "# Money Spent\n",
    "#spent vs frequency \n",
    "plt.hist(conversion_data['Spent'], bins = 25)\n",
    "plt.title(\"Spent vs. Frequency\", fontsize=16)\n",
    "plt.xlabel(\"Spent\")\n",
    "plt.ylabel(\"Frequency\")\n",
    "plt.savefig(\"kag_images/Spent vs Frequency_final.png\")\n",
    "plt.show()"
   ]
  },
  {
   "cell_type": "code",
   "execution_count": 29,
   "id": "73ee3190",
   "metadata": {},
   "outputs": [
    {
     "data": {
      "image/png": "[encoded data removed]",
      "text/plain": [
       "<Figure size 720x432 with 1 Axes>"
      ]
     },
     "metadata": {},
     "output_type": "display_data"
    }
   ],
   "source": [
    "#spent vs total conversion \n",
    "fig=plt.figure(figsize=(10,6))\n",
    "plt.scatter(conversion_data[\"Spent\"], conversion_data[\"Total_Conversion\"])\n",
    "plt.title(\"Spent vs. Total Conversion\", fontsize=16)\n",
    "plt.xlabel(\"Spent\")\n",
    "plt.ylabel(\"Total Conversion\")\n",
    "plt.savefig(\"kag_images/spent vs total_final.png\")\n",
    "plt.show()"
   ]
  },
  {
   "cell_type": "code",
   "execution_count": 30,
   "id": "175b3cc3",
   "metadata": {},
   "outputs": [
    {
     "data": {
      "text/plain": [
       "1079"
      ]
     },
     "execution_count": 30,
     "metadata": {},
     "output_type": "execute_result"
    }
   ],
   "source": [
    "#Approved_Conversion\n",
    "Approved_Conversion = conversion_data['Approved_Conversion'].sum()\n",
    "Approved_Conversion"
   ]
  },
  {
   "cell_type": "code",
   "execution_count": 31,
   "id": "e381eb5e",
   "metadata": {},
   "outputs": [
    {
     "data": {
      "image/png": "[encoded data removed]",
      "text/plain": [
       "<Figure size 720x432 with 1 Axes>"
      ]
     },
     "metadata": {},
     "output_type": "display_data"
    }
   ],
   "source": [
    "#spent vs approved \n",
    "fig=plt.figure(figsize=(10,6))\n",
    "plt.scatter(conversion_data[\"Spent\"], conversion_data[\"Approved_Conversion\"])\n",
    "plt.title(\"Spent vs. Approved_Conversion\", fontsize=16)\n",
    "plt.xlabel(\"Spent\")\n",
    "plt.ylabel(\"Approved Conversion\")\n",
    "plt.savefig(\"kag_images/spent vs approved_final.png\")\n",
    "plt.show()"
   ]
  },
  {
   "cell_type": "code",
   "execution_count": 32,
   "id": "21ab5a88",
   "metadata": {},
   "outputs": [
    {
     "data": {
      "image/png": "[encoded data removed]",
      "text/plain": [
       "<Figure size 432x288 with 1 Axes>"
      ]
     },
     "metadata": {},
     "output_type": "display_data"
    }
   ],
   "source": [
    "# Impressions\n",
    "plt.hist(conversion_data['Impressions'])\n",
    "plt.title(\"Impressions vs. Frequency\", fontsize=16)\n",
    "plt.xlabel(\"Impressions\")\n",
    "plt.ylabel(\"Frequency\")\n",
    "plt.savefig(\"kag_images/impressions vs frequency.png\")\n",
    "plt.show()"
   ]
  },
  {
   "cell_type": "code",
   "execution_count": 33,
   "id": "8b1f7a5b",
   "metadata": {},
   "outputs": [
    {
     "data": {
      "image/png": "[encoded data removed]",
      "text/plain": [
       "<Figure size 432x288 with 1 Axes>"
      ]
     },
     "metadata": {},
     "output_type": "display_data"
    }
   ],
   "source": [
    "plt.scatter(conversion_data[\"Impressions\"], conversion_data[\"Approved_Conversion\"])\n",
    "plt.title(\"Impressions vs. Approved_Conversion\", fontsize=16)\n",
    "plt.xlabel(\"Impressions\")\n",
    "plt.ylabel(\"Approved_Conversion\")\n",
    "plt.savefig(\"kag_images/Impressions vs approved_final.png\")\n",
    "plt.show()"
   ]
  },
  {
   "cell_type": "code",
   "execution_count": 34,
   "id": "d7064f39",
   "metadata": {},
   "outputs": [],
   "source": [
    "# In the 2 plots above, you can see that there is a rise in approved conversions after a ceratin point of impressions."
   ]
  },
  {
   "cell_type": "code",
   "execution_count": 35,
   "id": "fce4f2b6",
   "metadata": {},
   "outputs": [
    {
     "data": {
      "text/html": [
       "<div>\n",
       "<style scoped>\n",
       "    .dataframe tbody tr th:only-of-type {\n",
       "        vertical-align: middle;\n",
       "    }\n",
       "\n",
       "    .dataframe tbody tr th {\n",
       "        vertical-align: top;\n",
       "    }\n",
       "\n",
       "    .dataframe thead th {\n",
       "        text-align: right;\n",
       "    }\n",
       "</style>\n",
       "<table border=\"1\" class=\"dataframe\">\n",
       "  <thead>\n",
       "    <tr style=\"text-align: right;\">\n",
       "      <th></th>\n",
       "      <th>Impressions</th>\n",
       "      <th>Clicks</th>\n",
       "    </tr>\n",
       "  </thead>\n",
       "  <tbody>\n",
       "    <tr>\n",
       "      <th>Impressions</th>\n",
       "      <td>1.000000</td>\n",
       "      <td>0.948514</td>\n",
       "    </tr>\n",
       "    <tr>\n",
       "      <th>Clicks</th>\n",
       "      <td>0.948514</td>\n",
       "      <td>1.000000</td>\n",
       "    </tr>\n",
       "  </tbody>\n",
       "</table>\n",
       "</div>"
      ],
      "text/plain": [
       "             Impressions    Clicks\n",
       "Impressions     1.000000  0.948514\n",
       "Clicks          0.948514  1.000000"
      ]
     },
     "execution_count": 35,
     "metadata": {},
     "output_type": "execute_result"
    }
   ],
   "source": [
    "# Impressions vs. Clicks\n",
    "conversion_data[['Impressions', 'Clicks']].corr()"
   ]
  },
  {
   "cell_type": "code",
   "execution_count": 36,
   "id": "c411fc42",
   "metadata": {},
   "outputs": [
    {
     "data": {
      "image/png": "[encoded data removed]",
      "text/plain": [
       "<Figure size 432x288 with 1 Axes>"
      ]
     },
     "metadata": {},
     "output_type": "display_data"
    }
   ],
   "source": [
    "(slope, intercept, rvalue, pvalue, stderr) = st.linregress(conversion_data[\"Impressions\"],conversion_data[\"Clicks\"])\n",
    "regress_values = conversion_data[\"Impressions\"] * slope + intercept\n",
    "line_eq = \"y = \" + str(round(slope,2)) + \"x + \" + str(round(intercept,2))\n",
    "plt.scatter(conversion_data[\"Impressions\"], conversion_data[\"Clicks\"])\n",
    "plt.plot(conversion_data[\"Impressions\"],regress_values,\"r-\")\n",
    "#plt.annotate(line_eq,(20,36),fontsize=16,color=\"red\")\n",
    "plt.title(\"Impressions vs. Clicks\", fontsize=16)\n",
    "plt.xlabel(\"Impressions\")\n",
    "plt.ylabel(\"Clicks\")\n",
    "plt.savefig(\"kag_images/Impressions vs Clicks_final.png\")\n",
    "plt.show()"
   ]
  },
  {
   "cell_type": "code",
   "execution_count": 37,
   "id": "758bf096",
   "metadata": {},
   "outputs": [],
   "source": [
    "# The more a campaign displayed the more users will click on the ads. There is also a positive linear relationship."
   ]
  },
  {
   "cell_type": "code",
   "execution_count": 38,
   "id": "fdc16d21",
   "metadata": {},
   "outputs": [
    {
     "data": {
      "text/html": [
       "<div>\n",
       "<style scoped>\n",
       "    .dataframe tbody tr th:only-of-type {\n",
       "        vertical-align: middle;\n",
       "    }\n",
       "\n",
       "    .dataframe tbody tr th {\n",
       "        vertical-align: top;\n",
       "    }\n",
       "\n",
       "    .dataframe thead th {\n",
       "        text-align: right;\n",
       "    }\n",
       "</style>\n",
       "<table border=\"1\" class=\"dataframe\">\n",
       "  <thead>\n",
       "    <tr style=\"text-align: right;\">\n",
       "      <th></th>\n",
       "      <th>Spent</th>\n",
       "      <th>Clicks</th>\n",
       "    </tr>\n",
       "  </thead>\n",
       "  <tbody>\n",
       "    <tr>\n",
       "      <th>Spent</th>\n",
       "      <td>1.000000</td>\n",
       "      <td>0.992906</td>\n",
       "    </tr>\n",
       "    <tr>\n",
       "      <th>Clicks</th>\n",
       "      <td>0.992906</td>\n",
       "      <td>1.000000</td>\n",
       "    </tr>\n",
       "  </tbody>\n",
       "</table>\n",
       "</div>"
      ],
      "text/plain": [
       "           Spent    Clicks\n",
       "Spent   1.000000  0.992906\n",
       "Clicks  0.992906  1.000000"
      ]
     },
     "execution_count": 38,
     "metadata": {},
     "output_type": "execute_result"
    }
   ],
   "source": [
    "# Spent vs Clicks\n",
    "conversion_data[['Spent', 'Clicks']].corr()"
   ]
  },
  {
   "cell_type": "code",
   "execution_count": 39,
   "id": "fda6fbaf",
   "metadata": {},
   "outputs": [
    {
     "data": {
      "image/png": "[encoded data removed]",
      "text/plain": [
       "<Figure size 432x288 with 1 Axes>"
      ]
     },
     "metadata": {},
     "output_type": "display_data"
    }
   ],
   "source": [
    "(slope, intercept, rvalue, pvalue, stderr) = st.linregress(conversion_data[\"Spent\"],conversion_data[\"Clicks\"])\n",
    "regress_values = conversion_data[\"Spent\"] * slope + intercept\n",
    "line_eq = \"y = \" + str(round(slope,2)) + \"x + \" + str(round(intercept,2))\n",
    "plt.scatter(conversion_data[\"Spent\"], conversion_data[\"Clicks\"])\n",
    "plt.plot(conversion_data[\"Spent\"],regress_values,\"r-\")\n",
    "#plt.annotate(line_eq,(20,36),fontsize=16,color=\"red\")\n",
    "plt.title(\"Spent vs. Clicks\", fontsize=16)\n",
    "plt.xlabel(\"Spent\")\n",
    "plt.ylabel(\"Clicks\")\n",
    "plt.savefig(\"kag_images/Spent vs Clicks_final.png\")\n",
    "plt.show()"
   ]
  },
  {
   "cell_type": "code",
   "execution_count": 40,
   "id": "84498cce",
   "metadata": {},
   "outputs": [],
   "source": [
    "# There is a positive linear relationship between Spent and Click Through Rate."
   ]
  },
  {
   "cell_type": "code",
   "execution_count": null,
   "id": "16fd97f7",
   "metadata": {},
   "outputs": [],
   "source": []
  }
 ],
 "metadata": {
  "kernelspec": {
   "display_name": "Python 3 (ipykernel)",
   "language": "python",
   "name": "python3"
  },
  "language_info": {
   "codemirror_mode": {
    "name": "ipython",
    "version": 3
   },
   "file_extension": ".py",
   "mimetype": "text/x-python",
   "name": "python",
   "nbconvert_exporter": "python",
   "pygments_lexer": "ipython3",
   "version": "3.9.7"
  }
 },
 "nbformat": 4,
 "nbformat_minor": 5
}
