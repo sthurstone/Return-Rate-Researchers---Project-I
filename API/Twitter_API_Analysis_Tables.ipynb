{
 "cells": [
  {
   "cell_type": "markdown",
   "metadata": {},
   "source": [
    "Twitter Anaylsis - CSV Tables"
   ]
  },
  {
   "cell_type": "code",
   "execution_count": 8,
   "metadata": {},
   "outputs": [],
   "source": [
    "# Dependencies and Setup\n",
    "import matplotlib.pyplot as plt\n",
    "import pandas as pd\n",
    "import scipy.stats as st\n",
    "import numpy as np\n",
    "import glob"
   ]
  },
  {
   "cell_type": "code",
   "execution_count": 9,
   "metadata": {},
   "outputs": [],
   "source": [
    "#data files\n",
    "Twitter_API_Table = \"csv_output/Twitter_API_Table1.csv\"\n",
    "Twitter_API_Table2 = \"csv_output/Twitter_API_Table2.csv\"\n",
    "\n",
    "#read files\n",
    "Twitter_API_Table  = pd.read_csv(Twitter_API_Table)\n",
    "Twitter_API_Table2 = pd.read_csv(Twitter_API_Table2)\n",
    "\n",
    "#Add blank column to merge data\n",
    "Twitter_API_Table[\"Column\"] = \"\"\n",
    "Twitter_API_Table2 [\"Column\"] = \"\""
   ]
  },
  {
   "cell_type": "code",
   "execution_count": 10,
   "metadata": {},
   "outputs": [
    {
     "name": "stdout",
     "output_type": "stream",
     "text": [
      "        Unnamed: 0               source  \\\n",
      "Column                                    \n",
      "(, )             0  Twitter for Android   \n",
      "(, )             1              Twitter   \n",
      "(, )             2      Twitter Web App   \n",
      "(, )             3              Twitter   \n",
      "(, )             4      Twitter Web App   \n",
      "\n",
      "                                                     text  \\\n",
      "Column                                                      \n",
      "(, )    RT @FortuneMagazine: MTN is making its network...   \n",
      "(, )    Amazon​.de: AMD Ryzen 9 5950X Box\\n🔗 https://t...   \n",
      "(, )    RT @TeamSChandna: Watch #SurbhiChandna's new #...   \n",
      "(, )    Gardenrooms and sheds to read your books.. #ga...   \n",
      "(, )    RT @studiosounds: #Listen to Dayne S - Moments...   \n",
      "\n",
      "                      created_at            author_id lang  \\\n",
      "Column                                                       \n",
      "(, )    2021-10-27T21:24:30.000Z            197257623   en   \n",
      "(, )    2021-10-27T21:24:22.000Z  1318432664496623616   en   \n",
      "(, )    2021-10-27T21:24:20.000Z  1018893163925331968   en   \n",
      "(, )    2021-10-27T21:24:14.000Z   705402063728017408   en   \n",
      "(, )    2021-10-27T21:24:09.000Z           3889570332   en   \n",
      "\n",
      "        possibly_sensitive                   id       normalized_text  \\\n",
      "Column                                                                  \n",
      "(, )                  True  1453472698349326338                   MTN   \n",
      "(, )                 False  1453472665193394189                   NaN   \n",
      "(, )                 False  1453472656682991617  Vitamin C Face Serum   \n",
      "(, )                 False  1453472634319122433                   NaN   \n",
      "(, )                  True  1453472610553974786               Dayne S   \n",
      "\n",
      "        probability  ...  tag 2   tag 3       tag 4 tag 5 Mentions Total  \\\n",
      "Column               ...                                                   \n",
      "(, )         0.6382  ...    NaN     NaN         NaN   NaN              1   \n",
      "(, )            NaN  ...    NaN     NaN         NaN   NaN              1   \n",
      "(, )         0.4456  ...    NaN     NaN         NaN   NaN              0   \n",
      "(, )            NaN  ...  deals  Coupon  discounted  sale              0   \n",
      "(, )         0.7524  ...    NaN     NaN         NaN   NaN              1   \n",
      "\n",
      "       retweet count reply count  like count  quote count  possibly_sensitive  \n",
      "Column                                                                         \n",
      "(, )             177           0           0            0               False  \n",
      "(, )               2           0           0            0               False  \n",
      "(, )               0           0           0            0               False  \n",
      "(, )               0           0           0            0               False  \n",
      "(, )             177           0           0            0               False  \n",
      "\n",
      "[5 rows x 45 columns]\n"
     ]
    }
   ],
   "source": [
    "#Merge Data\n",
    "Combined_df = pd.concat([Twitter_API_Table, Twitter_API_Table2], axis=1, join=\"inner\")\n",
    "Combined_df.set_index(\"Column\", inplace=True)\n",
    "\n",
    "print(Combined_df.head())\n",
    "Combined_df.to_csv(\"combined_df.csv\")"
   ]
  },
  {
   "cell_type": "code",
   "execution_count": null,
   "metadata": {},
   "outputs": [],
   "source": []
  },
  {
   "cell_type": "code",
   "execution_count": null,
   "metadata": {},
   "outputs": [],
   "source": []
  },
  {
   "cell_type": "code",
   "execution_count": null,
   "metadata": {},
   "outputs": [],
   "source": []
  },
  {
   "cell_type": "code",
   "execution_count": null,
   "metadata": {},
   "outputs": [],
   "source": []
  },
  {
   "cell_type": "code",
   "execution_count": null,
   "metadata": {},
   "outputs": [],
   "source": []
  },
  {
   "cell_type": "code",
   "execution_count": null,
   "metadata": {},
   "outputs": [],
   "source": []
  },
  {
   "cell_type": "code",
   "execution_count": null,
   "metadata": {},
   "outputs": [],
   "source": []
  },
  {
   "cell_type": "code",
   "execution_count": null,
   "metadata": {},
   "outputs": [],
   "source": []
  }
 ],
 "metadata": {
  "anaconda-cloud": {},
  "kernelspec": {
   "display_name": "Python 3",
   "language": "python",
   "name": "python3"
  },
  "language_info": {
   "codemirror_mode": {
    "name": "ipython",
    "version": 3
   },
   "file_extension": ".py",
   "mimetype": "text/x-python",
   "name": "python",
   "nbconvert_exporter": "python",
   "pygments_lexer": "ipython3",
   "version": "3.8.8"
  }
 },
 "nbformat": 4,
 "nbformat_minor": 1
}
