{
 "cells": [
  {
   "cell_type": "code",
   "execution_count": 17,
   "id": "5c1f3476",
   "metadata": {},
   "outputs": [],
   "source": [
    "%matplotlib notebook\n",
    "%matplotlib inline"
   ]
  },
  {
   "cell_type": "code",
   "execution_count": 18,
   "id": "0921be2c",
   "metadata": {},
   "outputs": [],
   "source": [
    "# import dependencies\n",
    "import numpy as np\n",
    "import pandas as pd\n",
    "import matplotlib.pyplot as plt"
   ]
  },
  {
   "cell_type": "code",
   "execution_count": 19,
   "id": "5747ae7f",
   "metadata": {
    "scrolled": true
   },
   "outputs": [
    {
     "data": {
      "text/html": [
       "<div>\n",
       "<style scoped>\n",
       "    .dataframe tbody tr th:only-of-type {\n",
       "        vertical-align: middle;\n",
       "    }\n",
       "\n",
       "    .dataframe tbody tr th {\n",
       "        vertical-align: top;\n",
       "    }\n",
       "\n",
       "    .dataframe thead th {\n",
       "        text-align: right;\n",
       "    }\n",
       "</style>\n",
       "<table border=\"1\" class=\"dataframe\">\n",
       "  <thead>\n",
       "    <tr style=\"text-align: right;\">\n",
       "      <th></th>\n",
       "      <th>Question</th>\n",
       "      <th>Segment Type</th>\n",
       "      <th>Segment Description</th>\n",
       "      <th>Answer</th>\n",
       "      <th>Count</th>\n",
       "      <th>Percentage</th>\n",
       "    </tr>\n",
       "  </thead>\n",
       "  <tbody>\n",
       "    <tr>\n",
       "      <th>0</th>\n",
       "      <td>What social platform has influenced your onlin...</td>\n",
       "      <td>Mobile</td>\n",
       "      <td>Global results</td>\n",
       "      <td>Facebook</td>\n",
       "      <td>548</td>\n",
       "      <td>0.205</td>\n",
       "    </tr>\n",
       "    <tr>\n",
       "      <th>1</th>\n",
       "      <td>What social platform has influenced your onlin...</td>\n",
       "      <td>Mobile</td>\n",
       "      <td>Global results</td>\n",
       "      <td>Instagram</td>\n",
       "      <td>916</td>\n",
       "      <td>0.342</td>\n",
       "    </tr>\n",
       "    <tr>\n",
       "      <th>2</th>\n",
       "      <td>What social platform has influenced your onlin...</td>\n",
       "      <td>Mobile</td>\n",
       "      <td>Global results</td>\n",
       "      <td>Snapchat</td>\n",
       "      <td>86</td>\n",
       "      <td>0.032</td>\n",
       "    </tr>\n",
       "    <tr>\n",
       "      <th>3</th>\n",
       "      <td>What social platform has influenced your onlin...</td>\n",
       "      <td>Mobile</td>\n",
       "      <td>Global results</td>\n",
       "      <td>Twitter</td>\n",
       "      <td>179</td>\n",
       "      <td>0.067</td>\n",
       "    </tr>\n",
       "    <tr>\n",
       "      <th>4</th>\n",
       "      <td>What social platform has influenced your onlin...</td>\n",
       "      <td>Mobile</td>\n",
       "      <td>Global results</td>\n",
       "      <td>None</td>\n",
       "      <td>947</td>\n",
       "      <td>0.354</td>\n",
       "    </tr>\n",
       "  </tbody>\n",
       "</table>\n",
       "</div>"
      ],
      "text/plain": [
       "                                            Question Segment Type  \\\n",
       "0  What social platform has influenced your onlin...       Mobile   \n",
       "1  What social platform has influenced your onlin...       Mobile   \n",
       "2  What social platform has influenced your onlin...       Mobile   \n",
       "3  What social platform has influenced your onlin...       Mobile   \n",
       "4  What social platform has influenced your onlin...       Mobile   \n",
       "\n",
       "  Segment Description     Answer  Count  Percentage  \n",
       "0      Global results   Facebook    548       0.205  \n",
       "1      Global results  Instagram    916       0.342  \n",
       "2      Global results   Snapchat     86       0.032  \n",
       "3      Global results    Twitter    179       0.067  \n",
       "4      Global results       None    947       0.354  "
      ]
     },
     "execution_count": 19,
     "metadata": {},
     "output_type": "execute_result"
    }
   ],
   "source": [
    "# csv to DataFrame\n",
    "initial_data = pd.read_csv('social-influence-on-shopping.csv')\n",
    "initial_data.head()"
   ]
  },
  {
   "cell_type": "code",
   "execution_count": 20,
   "id": "bb0d9f74",
   "metadata": {
    "scrolled": true
   },
   "outputs": [
    {
     "data": {
      "text/html": [
       "<div>\n",
       "<style scoped>\n",
       "    .dataframe tbody tr th:only-of-type {\n",
       "        vertical-align: middle;\n",
       "    }\n",
       "\n",
       "    .dataframe tbody tr th {\n",
       "        vertical-align: top;\n",
       "    }\n",
       "\n",
       "    .dataframe thead th {\n",
       "        text-align: right;\n",
       "    }\n",
       "</style>\n",
       "<table border=\"1\" class=\"dataframe\">\n",
       "  <thead>\n",
       "    <tr style=\"text-align: right;\">\n",
       "      <th></th>\n",
       "      <th>Segment Description</th>\n",
       "      <th>Answer</th>\n",
       "      <th>Count</th>\n",
       "      <th>Percentage</th>\n",
       "    </tr>\n",
       "  </thead>\n",
       "  <tbody>\n",
       "    <tr>\n",
       "      <th>0</th>\n",
       "      <td>Global results</td>\n",
       "      <td>Facebook</td>\n",
       "      <td>548</td>\n",
       "      <td>0.205</td>\n",
       "    </tr>\n",
       "    <tr>\n",
       "      <th>1</th>\n",
       "      <td>Global results</td>\n",
       "      <td>Instagram</td>\n",
       "      <td>916</td>\n",
       "      <td>0.342</td>\n",
       "    </tr>\n",
       "    <tr>\n",
       "      <th>2</th>\n",
       "      <td>Global results</td>\n",
       "      <td>Snapchat</td>\n",
       "      <td>86</td>\n",
       "      <td>0.032</td>\n",
       "    </tr>\n",
       "    <tr>\n",
       "      <th>3</th>\n",
       "      <td>Global results</td>\n",
       "      <td>Twitter</td>\n",
       "      <td>179</td>\n",
       "      <td>0.067</td>\n",
       "    </tr>\n",
       "    <tr>\n",
       "      <th>4</th>\n",
       "      <td>Global results</td>\n",
       "      <td>None</td>\n",
       "      <td>947</td>\n",
       "      <td>0.354</td>\n",
       "    </tr>\n",
       "  </tbody>\n",
       "</table>\n",
       "</div>"
      ],
      "text/plain": [
       "  Segment Description     Answer  Count  Percentage\n",
       "0      Global results   Facebook    548       0.205\n",
       "1      Global results  Instagram    916       0.342\n",
       "2      Global results   Snapchat     86       0.032\n",
       "3      Global results    Twitter    179       0.067\n",
       "4      Global results       None    947       0.354"
      ]
     },
     "execution_count": 20,
     "metadata": {},
     "output_type": "execute_result"
    }
   ],
   "source": [
    "# 'Question' is the same throughout, so let's drop it\n",
    "initial_data.drop(['Question'], axis=1, inplace=True)\n",
    "initial_data.drop(['Segment Type'], axis=1, inplace=True)\n",
    "initial_data.head()"
   ]
  },
  {
   "cell_type": "code",
   "execution_count": 21,
   "id": "29890dc3",
   "metadata": {
    "scrolled": true
   },
   "outputs": [
    {
     "data": {
      "text/plain": [
       "Segment Description\n",
       "Appalachian State University                       5\n",
       "Arbroath Academy                                   5\n",
       "Are you a? SVB team member                         5\n",
       "Are you a? Student Trekker                         5\n",
       "Are you single? No                                 5\n",
       "                                                  ..\n",
       "your zodiac sign? Pisces (Feb 19 - Mar 20)         5\n",
       "your zodiac sign? Sagittarius (Nov 22 - Dec 21)    5\n",
       "your zodiac sign? Scorpio (Oct 23 - Nov 21)        5\n",
       "your zodiac sign? Taurus (Apr 20 - May 20)         5\n",
       "your zodiac sign? Virgo (Aug 23 - Sep 22)          5\n",
       "Name: Segment Description, Length: 289, dtype: int64"
      ]
     },
     "execution_count": 21,
     "metadata": {},
     "output_type": "execute_result"
    }
   ],
   "source": [
    "categories = initial_data.groupby('Segment Description')\n",
    "count_categories = categories['Segment Description'].count()\n",
    "count_categories"
   ]
  },
  {
   "cell_type": "code",
   "execution_count": 22,
   "id": "3f94ef90",
   "metadata": {},
   "outputs": [
    {
     "data": {
      "text/html": [
       "<div>\n",
       "<style scoped>\n",
       "    .dataframe tbody tr th:only-of-type {\n",
       "        vertical-align: middle;\n",
       "    }\n",
       "\n",
       "    .dataframe tbody tr th {\n",
       "        vertical-align: top;\n",
       "    }\n",
       "\n",
       "    .dataframe thead th {\n",
       "        text-align: right;\n",
       "    }\n",
       "</style>\n",
       "<table border=\"1\" class=\"dataframe\">\n",
       "  <thead>\n",
       "    <tr style=\"text-align: right;\">\n",
       "      <th></th>\n",
       "      <th>Segment Description</th>\n",
       "      <th>Answer</th>\n",
       "      <th>Count</th>\n",
       "      <th>Percentage</th>\n",
       "    </tr>\n",
       "  </thead>\n",
       "  <tbody>\n",
       "    <tr>\n",
       "      <th>0</th>\n",
       "      <td>Global results</td>\n",
       "      <td>Facebook</td>\n",
       "      <td>548</td>\n",
       "      <td>0.205</td>\n",
       "    </tr>\n",
       "    <tr>\n",
       "      <th>1</th>\n",
       "      <td>Global results</td>\n",
       "      <td>Instagram</td>\n",
       "      <td>916</td>\n",
       "      <td>0.342</td>\n",
       "    </tr>\n",
       "    <tr>\n",
       "      <th>2</th>\n",
       "      <td>Global results</td>\n",
       "      <td>Snapchat</td>\n",
       "      <td>86</td>\n",
       "      <td>0.032</td>\n",
       "    </tr>\n",
       "    <tr>\n",
       "      <th>3</th>\n",
       "      <td>Global results</td>\n",
       "      <td>Twitter</td>\n",
       "      <td>179</td>\n",
       "      <td>0.067</td>\n",
       "    </tr>\n",
       "    <tr>\n",
       "      <th>4</th>\n",
       "      <td>Global results</td>\n",
       "      <td>None</td>\n",
       "      <td>947</td>\n",
       "      <td>0.354</td>\n",
       "    </tr>\n",
       "  </tbody>\n",
       "</table>\n",
       "</div>"
      ],
      "text/plain": [
       "  Segment Description     Answer  Count  Percentage\n",
       "0      Global results   Facebook    548       0.205\n",
       "1      Global results  Instagram    916       0.342\n",
       "2      Global results   Snapchat     86       0.032\n",
       "3      Global results    Twitter    179       0.067\n",
       "4      Global results       None    947       0.354"
      ]
     },
     "execution_count": 22,
     "metadata": {},
     "output_type": "execute_result"
    }
   ],
   "source": [
    "# overview\n",
    "overview_df = pd.DataFrame(initial_data.iloc[0:5, :])\n",
    "overview_df"
   ]
  },
  {
   "cell_type": "code",
   "execution_count": 25,
   "id": "562e6a9a",
   "metadata": {
    "scrolled": true
   },
   "outputs": [
    {
     "data": {
      "image/png": "[encoded data removed]",
      "text/plain": [
       "<Figure size 432x288 with 1 Axes>"
      ]
     },
     "metadata": {},
     "output_type": "display_data"
    }
   ],
   "source": [
    "# pie chart\n",
    "\n",
    "labels = overview_df['Answer']\n",
    "sizes = overview_df['Percentage']\n",
    "colors = [\"royalblue\", \"orange\", \"yellow\", \"deepskyblue\", \"seagreen\"]\n",
    "\n",
    "plt.pie(sizes, labels=labels, colors=colors, autopct=\"%1.1f%%\", shadow=True)\n",
    "plt.title(\"What social platform has influenced your online shopping the most?\")\n",
    "plt.show()"
   ]
  },
  {
   "cell_type": "code",
   "execution_count": 26,
   "id": "a27ec434",
   "metadata": {},
   "outputs": [
    {
     "data": {
      "text/plain": [
       "<Figure size 432x288 with 0 Axes>"
      ]
     },
     "metadata": {},
     "output_type": "display_data"
    }
   ],
   "source": [
    "# save pie\n",
    "plt.savefig(\"overview.png\")"
   ]
  },
  {
   "cell_type": "code",
   "execution_count": 27,
   "id": "a8c8c7da",
   "metadata": {},
   "outputs": [
    {
     "data": {
      "text/html": [
       "<div>\n",
       "<style scoped>\n",
       "    .dataframe tbody tr th:only-of-type {\n",
       "        vertical-align: middle;\n",
       "    }\n",
       "\n",
       "    .dataframe tbody tr th {\n",
       "        vertical-align: top;\n",
       "    }\n",
       "\n",
       "    .dataframe thead th {\n",
       "        text-align: right;\n",
       "    }\n",
       "</style>\n",
       "<table border=\"1\" class=\"dataframe\">\n",
       "  <thead>\n",
       "    <tr style=\"text-align: right;\">\n",
       "      <th></th>\n",
       "      <th>Segment Description_x</th>\n",
       "      <th>Answer</th>\n",
       "      <th>Count (Female Voters)</th>\n",
       "      <th>Segment Description_y</th>\n",
       "      <th>Count (Male Voters)</th>\n",
       "    </tr>\n",
       "  </thead>\n",
       "  <tbody>\n",
       "    <tr>\n",
       "      <th>0</th>\n",
       "      <td>Female voters</td>\n",
       "      <td>Facebook</td>\n",
       "      <td>222</td>\n",
       "      <td>Male voters</td>\n",
       "      <td>326</td>\n",
       "    </tr>\n",
       "    <tr>\n",
       "      <th>1</th>\n",
       "      <td>Female voters</td>\n",
       "      <td>Instagram</td>\n",
       "      <td>535</td>\n",
       "      <td>Male voters</td>\n",
       "      <td>380</td>\n",
       "    </tr>\n",
       "    <tr>\n",
       "      <th>2</th>\n",
       "      <td>Female voters</td>\n",
       "      <td>Snapchat</td>\n",
       "      <td>29</td>\n",
       "      <td>Male voters</td>\n",
       "      <td>56</td>\n",
       "    </tr>\n",
       "    <tr>\n",
       "      <th>3</th>\n",
       "      <td>Female voters</td>\n",
       "      <td>Twitter</td>\n",
       "      <td>57</td>\n",
       "      <td>Male voters</td>\n",
       "      <td>122</td>\n",
       "    </tr>\n",
       "    <tr>\n",
       "      <th>4</th>\n",
       "      <td>Female voters</td>\n",
       "      <td>None</td>\n",
       "      <td>271</td>\n",
       "      <td>Male voters</td>\n",
       "      <td>678</td>\n",
       "    </tr>\n",
       "  </tbody>\n",
       "</table>\n",
       "</div>"
      ],
      "text/plain": [
       "  Segment Description_x     Answer  Count (Female Voters)  \\\n",
       "0         Female voters   Facebook                    222   \n",
       "1         Female voters  Instagram                    535   \n",
       "2         Female voters   Snapchat                     29   \n",
       "3         Female voters    Twitter                     57   \n",
       "4         Female voters       None                    271   \n",
       "\n",
       "  Segment Description_y  Count (Male Voters)  \n",
       "0           Male voters                  326  \n",
       "1           Male voters                  380  \n",
       "2           Male voters                   56  \n",
       "3           Male voters                  122  \n",
       "4           Male voters                  678  "
      ]
     },
     "execution_count": 27,
     "metadata": {},
     "output_type": "execute_result"
    }
   ],
   "source": [
    "# by gender - f/m\n",
    "gender_f = pd.DataFrame(initial_data.iloc[10:15, :3])\n",
    "gender_m = pd.DataFrame(initial_data.iloc[15:20, :3])\n",
    "gender_merge = pd.merge(gender_f, gender_m, on=\"Answer\", how=\"outer\")\n",
    "gender_merge = gender_merge.rename(columns={\"Count_x\":\"Count (Female Voters)\", \"Count_y\":\"Count (Male Voters)\"})\n",
    "gender_merge"
   ]
  },
  {
   "cell_type": "code",
   "execution_count": 28,
   "id": "4e5eac51",
   "metadata": {
    "scrolled": false
   },
   "outputs": [
    {
     "data": {
      "image/png": "[encoded data removed]",
      "text/plain": [
       "<Figure size 432x288 with 1 Axes>"
      ]
     },
     "metadata": {
      "needs_background": "light"
     },
     "output_type": "display_data"
    }
   ],
   "source": [
    "# bar graph - multi plot, if possible\n",
    "multi_plot = gender_merge.plot(kind=\"bar\")\n",
    "multi_plot.set_xticklabels(gender_merge[\"Answer\"], rotation=45)\n",
    "plt.title(\"Social Media Influence on Online Shopping\")\n",
    "plt.xlabel(\"Social Platform by Gender\")\n",
    "plt.ylabel(\"Number of Votes\")\n",
    "plt.tight_layout()"
   ]
  },
  {
   "cell_type": "code",
   "execution_count": null,
   "id": "70c0c201",
   "metadata": {},
   "outputs": [],
   "source": [
    "# save figure\n",
    "plt.savefig(\"gender_bar2.png\")"
   ]
  },
  {
   "cell_type": "code",
   "execution_count": 29,
   "id": "faf7e547",
   "metadata": {},
   "outputs": [
    {
     "data": {
      "text/plain": [
       "[304, 451, 340, 134]"
      ]
     },
     "execution_count": 29,
     "metadata": {},
     "output_type": "execute_result"
    }
   ],
   "source": [
    "# income of parents\n",
    "upper_class = pd.DataFrame(initial_data.iloc[915:920, :3])\n",
    "upper_middle = pd.DataFrame(initial_data.iloc[920:925, :3])\n",
    "middle_class = pd.DataFrame(initial_data.iloc[925:930, :3])\n",
    "lower_class = pd.DataFrame(initial_data.iloc[930:935, :3])\n",
    "\n",
    "# getting counts\n",
    "upper_counts = upper_class['Count'].sum()\n",
    "upper_middle_counts = upper_middle['Count'].sum()\n",
    "middle_counts = middle_class['Count'].sum()\n",
    "lower_counts = lower_class['Count'].sum()\n",
    "\n",
    "income_summary = [upper_counts, upper_middle_counts, middle_counts, lower_counts]\n",
    "income_summary"
   ]
  },
  {
   "cell_type": "code",
   "execution_count": 30,
   "id": "0c9ea093",
   "metadata": {},
   "outputs": [
    {
     "data": {
      "image/png": "[encoded data removed]",
      "text/plain": [
       "<Figure size 432x288 with 1 Axes>"
      ]
     },
     "metadata": {},
     "output_type": "display_data"
    }
   ],
   "source": [
    "# pie chart\n",
    "labels = ['Upper Class', 'Upper-Middle Class', 'Middle/Lower-Middle Class', 'Lower Class']\n",
    "sizes = income_summary\n",
    "explode = [0, 0.1, 0, 0]\n",
    "\n",
    "plt.pie(sizes, explode=explode, labels=labels, autopct=\"%1.1f%%\", shadow=True, startangle=25)\n",
    "plt.title(\"Pollees by Household Income\")\n",
    "plt.show()"
   ]
  },
  {
   "cell_type": "code",
   "execution_count": 10,
   "id": "32b68910",
   "metadata": {},
   "outputs": [],
   "source": [
    "# save fig\n",
    "plt.savefig(\"incomes_pie.png\")"
   ]
  },
  {
   "cell_type": "code",
   "execution_count": 31,
   "id": "e0d39b53",
   "metadata": {},
   "outputs": [
    {
     "data": {
      "text/plain": [
       "[192, 94, 113, 1572, 105]"
      ]
     },
     "execution_count": 31,
     "metadata": {},
     "output_type": "execute_result"
    }
   ],
   "source": [
    "# ethnicities - individual\n",
    "ethnicity_asian = pd.DataFrame(initial_data.iloc[970:975, :3])\n",
    "ethnicity_black = pd.DataFrame(initial_data.iloc[1215:1220, :3])\n",
    "ethnicity_hispanic = pd.DataFrame(initial_data.iloc[1350: 1355, :3])\n",
    "ethnicity_white = pd.DataFrame(initial_data.iloc[1440:1445, :3])\n",
    "ethnicity_other = pd.DataFrame(initial_data.iloc[1170:1175, :3])\n",
    "ethnicity_native_american = pd.DataFrame(initial_data.iloc[1175:1180, :3])\n",
    "\n",
    "# collecting counts\n",
    "asian_sum = ethnicity_asian['Count'].sum()\n",
    "black_sum = ethnicity_black['Count'].sum()\n",
    "hispanic_sum = ethnicity_hispanic['Count'].sum()\n",
    "white_sum = ethnicity_white['Count'].sum() \n",
    "other_sum = ethnicity_other['Count'].sum() + ethnicity_native_american['Count'].sum()\n",
    "\n",
    "ethnicity_summary = [asian_sum, black_sum, hispanic_sum, white_sum, other_sum]\n",
    "ethnicity_summary"
   ]
  },
  {
   "cell_type": "code",
   "execution_count": 32,
   "id": "dfc17e93",
   "metadata": {},
   "outputs": [
    {
     "data": {
      "image/png": "[encoded data removed]",
      "text/plain": [
       "<Figure size 432x288 with 1 Axes>"
      ]
     },
     "metadata": {},
     "output_type": "display_data"
    }
   ],
   "source": [
    "# ethnicity pie chart\n",
    "labels = [\"Asian\", \"Black\", \"Hispanic\", \"White\", \"Other\"]\n",
    "sizes = ethnicity_summary\n",
    "explode = [0, 0, 0, 0.1, 0]\n",
    "\n",
    "plt.pie(sizes, explode=explode, labels=labels, autopct=\"%1.1f%%\", shadow=True, startangle=135)\n",
    "plt.title(\"Ethnicity of Pollees\")\n",
    "plt.show()"
   ]
  },
  {
   "cell_type": "code",
   "execution_count": null,
   "id": "6ba3b681",
   "metadata": {},
   "outputs": [],
   "source": [
    "# save figure\n",
    "plt.savefig(\"ethnicities_pie.png\")"
   ]
  },
  {
   "cell_type": "code",
   "execution_count": null,
   "id": "f732e10a",
   "metadata": {},
   "outputs": [],
   "source": []
  }
 ],
 "metadata": {
  "kernelspec": {
   "display_name": "Python 3 (ipykernel)",
   "language": "python",
   "name": "python3"
  },
  "language_info": {
   "codemirror_mode": {
    "name": "ipython",
    "version": 3
   },
   "file_extension": ".py",
   "mimetype": "text/x-python",
   "name": "python",
   "nbconvert_exporter": "python",
   "pygments_lexer": "ipython3",
   "version": "3.9.7"
  }
 },
 "nbformat": 4,
 "nbformat_minor": 5
}
